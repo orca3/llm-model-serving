{
  "nbformat": 4,
  "nbformat_minor": 0,
  "metadata": {
    "colab": {
      "provenance": [],
      "gpuType": "L4",
      "machine_shape": "hm",
      "include_colab_link": true
    },
    "kernelspec": {
      "name": "python3",
      "display_name": "Python 3"
    },
    "language_info": {
      "name": "python"
    },
    "accelerator": "GPU"
  },
  "cells": [
    {
      "cell_type": "markdown",
      "metadata": {
        "id": "view-in-github",
        "colab_type": "text"
      },
      "source": [
        "<a href=\"https://colab.research.google.com/github/orca3/llm-model-serving/blob/main/ch06/quantization_3way_300.ipynb\" target=\"_parent\"><img src=\"https://colab.research.google.com/assets/colab-badge.svg\" alt=\"Open In Colab\"/></a>"
      ]
    },
    {
      "cell_type": "code",
      "source": [
        "!pip install vllm==0.8.5.post1"
      ],
      "metadata": {
        "colab": {
          "base_uri": "https://localhost:8080/",
          "height": 1000
        },
        "id": "6KECnY_RDjtT",
        "outputId": "a3dcf94a-3a16-4bb5-9295-847970aced9a"
      },
      "execution_count": null,
      "outputs": [
        {
          "output_type": "stream",
          "name": "stdout",
          "text": [
            "Collecting vllm==0.8.5.post1\n",
            "  Downloading vllm-0.8.5.post1-cp38-abi3-manylinux1_x86_64.whl.metadata (14 kB)\n",
            "Requirement already satisfied: cachetools in /usr/local/lib/python3.11/dist-packages (from vllm==0.8.5.post1) (5.5.2)\n",
            "Requirement already satisfied: psutil in /usr/local/lib/python3.11/dist-packages (from vllm==0.8.5.post1) (5.9.5)\n",
            "Requirement already satisfied: sentencepiece in /usr/local/lib/python3.11/dist-packages (from vllm==0.8.5.post1) (0.2.0)\n",
            "Requirement already satisfied: numpy in /usr/local/lib/python3.11/dist-packages (from vllm==0.8.5.post1) (2.0.2)\n",
            "Requirement already satisfied: requests>=2.26.0 in /usr/local/lib/python3.11/dist-packages (from vllm==0.8.5.post1) (2.32.3)\n",
            "Requirement already satisfied: tqdm in /usr/local/lib/python3.11/dist-packages (from vllm==0.8.5.post1) (4.67.1)\n",
            "Collecting blake3 (from vllm==0.8.5.post1)\n",
            "  Downloading blake3-1.0.4-cp311-cp311-manylinux_2_17_x86_64.manylinux2014_x86_64.whl.metadata (4.2 kB)\n",
            "Requirement already satisfied: py-cpuinfo in /usr/local/lib/python3.11/dist-packages (from vllm==0.8.5.post1) (9.0.0)\n",
            "Requirement already satisfied: transformers>=4.51.1 in /usr/local/lib/python3.11/dist-packages (from vllm==0.8.5.post1) (4.51.3)\n",
            "Requirement already satisfied: huggingface-hub>=0.30.0 in /usr/local/lib/python3.11/dist-packages (from huggingface-hub[hf_xet]>=0.30.0->vllm==0.8.5.post1) (0.31.2)\n",
            "Requirement already satisfied: tokenizers>=0.21.1 in /usr/local/lib/python3.11/dist-packages (from vllm==0.8.5.post1) (0.21.1)\n",
            "Requirement already satisfied: protobuf in /usr/local/lib/python3.11/dist-packages (from vllm==0.8.5.post1) (5.29.4)\n",
            "Collecting fastapi>=0.115.0 (from fastapi[standard]>=0.115.0->vllm==0.8.5.post1)\n",
            "  Downloading fastapi-0.115.12-py3-none-any.whl.metadata (27 kB)\n",
            "Requirement already satisfied: aiohttp in /usr/local/lib/python3.11/dist-packages (from vllm==0.8.5.post1) (3.11.15)\n",
            "Requirement already satisfied: openai>=1.52.0 in /usr/local/lib/python3.11/dist-packages (from vllm==0.8.5.post1) (1.78.1)\n",
            "Requirement already satisfied: pydantic>=2.9 in /usr/local/lib/python3.11/dist-packages (from vllm==0.8.5.post1) (2.11.4)\n",
            "Requirement already satisfied: prometheus_client>=0.18.0 in /usr/local/lib/python3.11/dist-packages (from vllm==0.8.5.post1) (0.21.1)\n",
            "Requirement already satisfied: pillow in /usr/local/lib/python3.11/dist-packages (from vllm==0.8.5.post1) (11.2.1)\n",
            "Collecting prometheus-fastapi-instrumentator>=7.0.0 (from vllm==0.8.5.post1)\n",
            "  Downloading prometheus_fastapi_instrumentator-7.1.0-py3-none-any.whl.metadata (13 kB)\n",
            "Requirement already satisfied: tiktoken>=0.6.0 in /usr/local/lib/python3.11/dist-packages (from vllm==0.8.5.post1) (0.9.0)\n",
            "Collecting lm-format-enforcer<0.11,>=0.10.11 (from vllm==0.8.5.post1)\n",
            "  Downloading lm_format_enforcer-0.10.11-py3-none-any.whl.metadata (17 kB)\n",
            "Collecting llguidance<0.8.0,>=0.7.9 (from vllm==0.8.5.post1)\n",
            "  Downloading llguidance-0.7.20-cp39-abi3-manylinux_2_17_x86_64.manylinux2014_x86_64.whl.metadata (9.6 kB)\n",
            "Collecting outlines==0.1.11 (from vllm==0.8.5.post1)\n",
            "  Downloading outlines-0.1.11-py3-none-any.whl.metadata (17 kB)\n",
            "Collecting lark==1.2.2 (from vllm==0.8.5.post1)\n",
            "  Downloading lark-1.2.2-py3-none-any.whl.metadata (1.8 kB)\n",
            "Collecting xgrammar==0.1.18 (from vllm==0.8.5.post1)\n",
            "  Downloading xgrammar-0.1.18-cp311-cp311-manylinux_2_17_x86_64.manylinux2014_x86_64.whl.metadata (3.6 kB)\n",
            "Requirement already satisfied: typing_extensions>=4.10 in /usr/local/lib/python3.11/dist-packages (from vllm==0.8.5.post1) (4.13.2)\n",
            "Requirement already satisfied: filelock>=3.16.1 in /usr/local/lib/python3.11/dist-packages (from vllm==0.8.5.post1) (3.18.0)\n",
            "Collecting partial-json-parser (from vllm==0.8.5.post1)\n",
            "  Downloading partial_json_parser-0.2.1.1.post5-py3-none-any.whl.metadata (6.1 kB)\n",
            "Collecting pyzmq>=25.0.0 (from vllm==0.8.5.post1)\n",
            "  Downloading pyzmq-26.4.0-cp311-cp311-manylinux_2_28_x86_64.whl.metadata (6.0 kB)\n",
            "Collecting msgspec (from vllm==0.8.5.post1)\n",
            "  Downloading msgspec-0.19.0-cp311-cp311-manylinux_2_17_x86_64.manylinux2014_x86_64.whl.metadata (6.9 kB)\n",
            "Collecting gguf>=0.13.0 (from vllm==0.8.5.post1)\n",
            "  Downloading gguf-0.16.3-py3-none-any.whl.metadata (4.4 kB)\n",
            "Requirement already satisfied: importlib_metadata in /usr/local/lib/python3.11/dist-packages (from vllm==0.8.5.post1) (8.7.0)\n",
            "Collecting mistral_common>=1.5.4 (from mistral_common[opencv]>=1.5.4->vllm==0.8.5.post1)\n",
            "  Downloading mistral_common-1.5.4-py3-none-any.whl.metadata (4.5 kB)\n",
            "Requirement already satisfied: opencv-python-headless>=4.11.0 in /usr/local/lib/python3.11/dist-packages (from vllm==0.8.5.post1) (4.11.0.86)\n",
            "Requirement already satisfied: pyyaml in /usr/local/lib/python3.11/dist-packages (from vllm==0.8.5.post1) (6.0.2)\n",
            "Requirement already satisfied: einops in /usr/local/lib/python3.11/dist-packages (from vllm==0.8.5.post1) (0.8.1)\n",
            "Collecting compressed-tensors==0.9.3 (from vllm==0.8.5.post1)\n",
            "  Downloading compressed_tensors-0.9.3-py3-none-any.whl.metadata (7.0 kB)\n",
            "Collecting depyf==0.18.0 (from vllm==0.8.5.post1)\n",
            "  Downloading depyf-0.18.0-py3-none-any.whl.metadata (7.1 kB)\n",
            "Requirement already satisfied: cloudpickle in /usr/local/lib/python3.11/dist-packages (from vllm==0.8.5.post1) (3.1.1)\n",
            "Collecting watchfiles (from vllm==0.8.5.post1)\n",
            "  Downloading watchfiles-1.0.5-cp311-cp311-manylinux_2_17_x86_64.manylinux2014_x86_64.whl.metadata (4.9 kB)\n",
            "Collecting python-json-logger (from vllm==0.8.5.post1)\n",
            "  Downloading python_json_logger-3.3.0-py3-none-any.whl.metadata (4.0 kB)\n",
            "Requirement already satisfied: scipy in /usr/local/lib/python3.11/dist-packages (from vllm==0.8.5.post1) (1.15.3)\n",
            "Collecting ninja (from vllm==0.8.5.post1)\n",
            "  Downloading ninja-1.11.1.4-py3-none-manylinux_2_12_x86_64.manylinux2010_x86_64.whl.metadata (5.0 kB)\n",
            "Collecting opentelemetry-sdk<1.27.0,>=1.26.0 (from vllm==0.8.5.post1)\n",
            "  Downloading opentelemetry_sdk-1.26.0-py3-none-any.whl.metadata (1.5 kB)\n",
            "Collecting opentelemetry-api<1.27.0,>=1.26.0 (from vllm==0.8.5.post1)\n",
            "  Downloading opentelemetry_api-1.26.0-py3-none-any.whl.metadata (1.4 kB)\n",
            "Collecting opentelemetry-exporter-otlp<1.27.0,>=1.26.0 (from vllm==0.8.5.post1)\n",
            "  Downloading opentelemetry_exporter_otlp-1.26.0-py3-none-any.whl.metadata (2.3 kB)\n",
            "Collecting opentelemetry-semantic-conventions-ai<0.5.0,>=0.4.1 (from vllm==0.8.5.post1)\n",
            "  Downloading opentelemetry_semantic_conventions_ai-0.4.9-py3-none-any.whl.metadata (1.1 kB)\n",
            "Collecting numba==0.61.2 (from vllm==0.8.5.post1)\n",
            "  Downloading numba-0.61.2-cp311-cp311-manylinux2014_x86_64.manylinux_2_17_x86_64.whl.metadata (2.8 kB)\n",
            "Collecting ray!=2.44.*,>=2.43.0 (from ray[cgraph]!=2.44.*,>=2.43.0->vllm==0.8.5.post1)\n",
            "  Downloading ray-2.46.0-cp311-cp311-manylinux2014_x86_64.whl.metadata (19 kB)\n",
            "Requirement already satisfied: torch==2.6.0 in /usr/local/lib/python3.11/dist-packages (from vllm==0.8.5.post1) (2.6.0+cu124)\n",
            "Requirement already satisfied: torchaudio==2.6.0 in /usr/local/lib/python3.11/dist-packages (from vllm==0.8.5.post1) (2.6.0+cu124)\n",
            "Requirement already satisfied: torchvision==0.21.0 in /usr/local/lib/python3.11/dist-packages (from vllm==0.8.5.post1) (0.21.0+cu124)\n",
            "Collecting xformers==0.0.29.post2 (from vllm==0.8.5.post1)\n",
            "  Downloading xformers-0.0.29.post2-cp311-cp311-manylinux_2_28_x86_64.whl.metadata (1.0 kB)\n",
            "Collecting astor (from depyf==0.18.0->vllm==0.8.5.post1)\n",
            "  Downloading astor-0.8.1-py2.py3-none-any.whl.metadata (4.2 kB)\n",
            "Requirement already satisfied: dill in /usr/local/lib/python3.11/dist-packages (from depyf==0.18.0->vllm==0.8.5.post1) (0.3.7)\n",
            "Collecting llvmlite<0.45,>=0.44.0dev0 (from numba==0.61.2->vllm==0.8.5.post1)\n",
            "  Downloading llvmlite-0.44.0-cp311-cp311-manylinux_2_17_x86_64.manylinux2014_x86_64.whl.metadata (4.8 kB)\n",
            "Collecting interegular (from outlines==0.1.11->vllm==0.8.5.post1)\n",
            "  Downloading interegular-0.3.3-py37-none-any.whl.metadata (3.0 kB)\n",
            "Requirement already satisfied: jinja2 in /usr/local/lib/python3.11/dist-packages (from outlines==0.1.11->vllm==0.8.5.post1) (3.1.6)\n",
            "Requirement already satisfied: nest_asyncio in /usr/local/lib/python3.11/dist-packages (from outlines==0.1.11->vllm==0.8.5.post1) (1.6.0)\n",
            "Collecting diskcache (from outlines==0.1.11->vllm==0.8.5.post1)\n",
            "  Downloading diskcache-5.6.3-py3-none-any.whl.metadata (20 kB)\n",
            "Requirement already satisfied: referencing in /usr/local/lib/python3.11/dist-packages (from outlines==0.1.11->vllm==0.8.5.post1) (0.36.2)\n",
            "Requirement already satisfied: jsonschema in /usr/local/lib/python3.11/dist-packages (from outlines==0.1.11->vllm==0.8.5.post1) (4.23.0)\n",
            "Collecting pycountry (from outlines==0.1.11->vllm==0.8.5.post1)\n",
            "  Downloading pycountry-24.6.1-py3-none-any.whl.metadata (12 kB)\n",
            "Collecting airportsdata (from outlines==0.1.11->vllm==0.8.5.post1)\n",
            "  Downloading airportsdata-20250224-py3-none-any.whl.metadata (9.0 kB)\n",
            "Collecting outlines_core==0.1.26 (from outlines==0.1.11->vllm==0.8.5.post1)\n",
            "  Downloading outlines_core-0.1.26-cp311-cp311-manylinux_2_17_x86_64.manylinux2014_x86_64.whl.metadata (3.8 kB)\n",
            "Requirement already satisfied: networkx in /usr/local/lib/python3.11/dist-packages (from torch==2.6.0->vllm==0.8.5.post1) (3.4.2)\n",
            "Requirement already satisfied: fsspec in /usr/local/lib/python3.11/dist-packages (from torch==2.6.0->vllm==0.8.5.post1) (2025.3.2)\n",
            "Collecting nvidia-cuda-nvrtc-cu12==12.4.127 (from torch==2.6.0->vllm==0.8.5.post1)\n",
            "  Downloading nvidia_cuda_nvrtc_cu12-12.4.127-py3-none-manylinux2014_x86_64.whl.metadata (1.5 kB)\n",
            "Collecting nvidia-cuda-runtime-cu12==12.4.127 (from torch==2.6.0->vllm==0.8.5.post1)\n",
            "  Downloading nvidia_cuda_runtime_cu12-12.4.127-py3-none-manylinux2014_x86_64.whl.metadata (1.5 kB)\n",
            "Collecting nvidia-cuda-cupti-cu12==12.4.127 (from torch==2.6.0->vllm==0.8.5.post1)\n",
            "  Downloading nvidia_cuda_cupti_cu12-12.4.127-py3-none-manylinux2014_x86_64.whl.metadata (1.6 kB)\n",
            "Collecting nvidia-cudnn-cu12==9.1.0.70 (from torch==2.6.0->vllm==0.8.5.post1)\n",
            "  Downloading nvidia_cudnn_cu12-9.1.0.70-py3-none-manylinux2014_x86_64.whl.metadata (1.6 kB)\n",
            "Collecting nvidia-cublas-cu12==12.4.5.8 (from torch==2.6.0->vllm==0.8.5.post1)\n",
            "  Downloading nvidia_cublas_cu12-12.4.5.8-py3-none-manylinux2014_x86_64.whl.metadata (1.5 kB)\n",
            "Collecting nvidia-cufft-cu12==11.2.1.3 (from torch==2.6.0->vllm==0.8.5.post1)\n",
            "  Downloading nvidia_cufft_cu12-11.2.1.3-py3-none-manylinux2014_x86_64.whl.metadata (1.5 kB)\n",
            "Collecting nvidia-curand-cu12==10.3.5.147 (from torch==2.6.0->vllm==0.8.5.post1)\n",
            "  Downloading nvidia_curand_cu12-10.3.5.147-py3-none-manylinux2014_x86_64.whl.metadata (1.5 kB)\n",
            "Collecting nvidia-cusolver-cu12==11.6.1.9 (from torch==2.6.0->vllm==0.8.5.post1)\n",
            "  Downloading nvidia_cusolver_cu12-11.6.1.9-py3-none-manylinux2014_x86_64.whl.metadata (1.6 kB)\n",
            "Collecting nvidia-cusparse-cu12==12.3.1.170 (from torch==2.6.0->vllm==0.8.5.post1)\n",
            "  Downloading nvidia_cusparse_cu12-12.3.1.170-py3-none-manylinux2014_x86_64.whl.metadata (1.6 kB)\n",
            "Requirement already satisfied: nvidia-cusparselt-cu12==0.6.2 in /usr/local/lib/python3.11/dist-packages (from torch==2.6.0->vllm==0.8.5.post1) (0.6.2)\n",
            "Requirement already satisfied: nvidia-nccl-cu12==2.21.5 in /usr/local/lib/python3.11/dist-packages (from torch==2.6.0->vllm==0.8.5.post1) (2.21.5)\n",
            "Requirement already satisfied: nvidia-nvtx-cu12==12.4.127 in /usr/local/lib/python3.11/dist-packages (from torch==2.6.0->vllm==0.8.5.post1) (12.4.127)\n",
            "Collecting nvidia-nvjitlink-cu12==12.4.127 (from torch==2.6.0->vllm==0.8.5.post1)\n",
            "  Downloading nvidia_nvjitlink_cu12-12.4.127-py3-none-manylinux2014_x86_64.whl.metadata (1.5 kB)\n",
            "Requirement already satisfied: triton==3.2.0 in /usr/local/lib/python3.11/dist-packages (from torch==2.6.0->vllm==0.8.5.post1) (3.2.0)\n",
            "Requirement already satisfied: sympy==1.13.1 in /usr/local/lib/python3.11/dist-packages (from torch==2.6.0->vllm==0.8.5.post1) (1.13.1)\n",
            "Requirement already satisfied: mpmath<1.4,>=1.1.0 in /usr/local/lib/python3.11/dist-packages (from sympy==1.13.1->torch==2.6.0->vllm==0.8.5.post1) (1.3.0)\n",
            "Collecting starlette<0.47.0,>=0.40.0 (from fastapi>=0.115.0->fastapi[standard]>=0.115.0->vllm==0.8.5.post1)\n",
            "  Downloading starlette-0.46.2-py3-none-any.whl.metadata (6.2 kB)\n",
            "Collecting fastapi-cli>=0.0.5 (from fastapi-cli[standard]>=0.0.5; extra == \"standard\"->fastapi[standard]>=0.115.0->vllm==0.8.5.post1)\n",
            "  Downloading fastapi_cli-0.0.7-py3-none-any.whl.metadata (6.2 kB)\n",
            "Requirement already satisfied: httpx>=0.23.0 in /usr/local/lib/python3.11/dist-packages (from fastapi[standard]>=0.115.0->vllm==0.8.5.post1) (0.28.1)\n",
            "Collecting python-multipart>=0.0.18 (from fastapi[standard]>=0.115.0->vllm==0.8.5.post1)\n",
            "  Downloading python_multipart-0.0.20-py3-none-any.whl.metadata (1.8 kB)\n",
            "Collecting email-validator>=2.0.0 (from fastapi[standard]>=0.115.0->vllm==0.8.5.post1)\n",
            "  Downloading email_validator-2.2.0-py3-none-any.whl.metadata (25 kB)\n",
            "Collecting uvicorn>=0.12.0 (from uvicorn[standard]>=0.12.0; extra == \"standard\"->fastapi[standard]>=0.115.0->vllm==0.8.5.post1)\n",
            "  Downloading uvicorn-0.34.2-py3-none-any.whl.metadata (6.5 kB)\n",
            "Requirement already satisfied: packaging>=20.9 in /usr/local/lib/python3.11/dist-packages (from huggingface-hub>=0.30.0->huggingface-hub[hf_xet]>=0.30.0->vllm==0.8.5.post1) (24.2)\n",
            "Collecting hf-xet<2.0.0,>=1.1.1 (from huggingface-hub[hf_xet]>=0.30.0->vllm==0.8.5.post1)\n",
            "  Downloading hf_xet-1.1.2-cp37-abi3-manylinux_2_17_x86_64.manylinux2014_x86_64.whl.metadata (879 bytes)\n",
            "Requirement already satisfied: anyio<5,>=3.5.0 in /usr/local/lib/python3.11/dist-packages (from openai>=1.52.0->vllm==0.8.5.post1) (4.9.0)\n",
            "Requirement already satisfied: distro<2,>=1.7.0 in /usr/local/lib/python3.11/dist-packages (from openai>=1.52.0->vllm==0.8.5.post1) (1.9.0)\n",
            "Requirement already satisfied: jiter<1,>=0.4.0 in /usr/local/lib/python3.11/dist-packages (from openai>=1.52.0->vllm==0.8.5.post1) (0.9.0)\n",
            "Requirement already satisfied: sniffio in /usr/local/lib/python3.11/dist-packages (from openai>=1.52.0->vllm==0.8.5.post1) (1.3.1)\n",
            "Collecting deprecated>=1.2.6 (from opentelemetry-api<1.27.0,>=1.26.0->vllm==0.8.5.post1)\n",
            "  Downloading Deprecated-1.2.18-py2.py3-none-any.whl.metadata (5.7 kB)\n",
            "Collecting importlib_metadata (from vllm==0.8.5.post1)\n",
            "  Downloading importlib_metadata-8.0.0-py3-none-any.whl.metadata (4.6 kB)\n",
            "Requirement already satisfied: zipp>=0.5 in /usr/local/lib/python3.11/dist-packages (from importlib_metadata->vllm==0.8.5.post1) (3.21.0)\n",
            "Collecting opentelemetry-exporter-otlp-proto-grpc==1.26.0 (from opentelemetry-exporter-otlp<1.27.0,>=1.26.0->vllm==0.8.5.post1)\n",
            "  Downloading opentelemetry_exporter_otlp_proto_grpc-1.26.0-py3-none-any.whl.metadata (2.3 kB)\n",
            "Collecting opentelemetry-exporter-otlp-proto-http==1.26.0 (from opentelemetry-exporter-otlp<1.27.0,>=1.26.0->vllm==0.8.5.post1)\n",
            "  Downloading opentelemetry_exporter_otlp_proto_http-1.26.0-py3-none-any.whl.metadata (2.3 kB)\n",
            "Requirement already satisfied: googleapis-common-protos~=1.52 in /usr/local/lib/python3.11/dist-packages (from opentelemetry-exporter-otlp-proto-grpc==1.26.0->opentelemetry-exporter-otlp<1.27.0,>=1.26.0->vllm==0.8.5.post1) (1.70.0)\n",
            "Requirement already satisfied: grpcio<2.0.0,>=1.0.0 in /usr/local/lib/python3.11/dist-packages (from opentelemetry-exporter-otlp-proto-grpc==1.26.0->opentelemetry-exporter-otlp<1.27.0,>=1.26.0->vllm==0.8.5.post1) (1.71.0)\n",
            "Collecting opentelemetry-exporter-otlp-proto-common==1.26.0 (from opentelemetry-exporter-otlp-proto-grpc==1.26.0->opentelemetry-exporter-otlp<1.27.0,>=1.26.0->vllm==0.8.5.post1)\n",
            "  Downloading opentelemetry_exporter_otlp_proto_common-1.26.0-py3-none-any.whl.metadata (1.8 kB)\n",
            "Collecting opentelemetry-proto==1.26.0 (from opentelemetry-exporter-otlp-proto-grpc==1.26.0->opentelemetry-exporter-otlp<1.27.0,>=1.26.0->vllm==0.8.5.post1)\n",
            "  Downloading opentelemetry_proto-1.26.0-py3-none-any.whl.metadata (2.3 kB)\n",
            "Collecting protobuf (from vllm==0.8.5.post1)\n",
            "  Downloading protobuf-4.25.7-cp37-abi3-manylinux2014_x86_64.whl.metadata (541 bytes)\n",
            "Collecting opentelemetry-semantic-conventions==0.47b0 (from opentelemetry-sdk<1.27.0,>=1.26.0->vllm==0.8.5.post1)\n",
            "  Downloading opentelemetry_semantic_conventions-0.47b0-py3-none-any.whl.metadata (2.4 kB)\n",
            "Requirement already satisfied: annotated-types>=0.6.0 in /usr/local/lib/python3.11/dist-packages (from pydantic>=2.9->vllm==0.8.5.post1) (0.7.0)\n",
            "Requirement already satisfied: pydantic-core==2.33.2 in /usr/local/lib/python3.11/dist-packages (from pydantic>=2.9->vllm==0.8.5.post1) (2.33.2)\n",
            "Requirement already satisfied: typing-inspection>=0.4.0 in /usr/local/lib/python3.11/dist-packages (from pydantic>=2.9->vllm==0.8.5.post1) (0.4.0)\n",
            "Requirement already satisfied: click>=7.0 in /usr/local/lib/python3.11/dist-packages (from ray!=2.44.*,>=2.43.0->ray[cgraph]!=2.44.*,>=2.43.0->vllm==0.8.5.post1) (8.2.0)\n",
            "Requirement already satisfied: msgpack<2.0.0,>=1.0.0 in /usr/local/lib/python3.11/dist-packages (from ray!=2.44.*,>=2.43.0->ray[cgraph]!=2.44.*,>=2.43.0->vllm==0.8.5.post1) (1.1.0)\n",
            "Requirement already satisfied: cupy-cuda12x in /usr/local/lib/python3.11/dist-packages (from ray[cgraph]!=2.44.*,>=2.43.0->vllm==0.8.5.post1) (13.3.0)\n",
            "Requirement already satisfied: charset-normalizer<4,>=2 in /usr/local/lib/python3.11/dist-packages (from requests>=2.26.0->vllm==0.8.5.post1) (3.4.2)\n",
            "Requirement already satisfied: idna<4,>=2.5 in /usr/local/lib/python3.11/dist-packages (from requests>=2.26.0->vllm==0.8.5.post1) (3.10)\n",
            "Requirement already satisfied: urllib3<3,>=1.21.1 in /usr/local/lib/python3.11/dist-packages (from requests>=2.26.0->vllm==0.8.5.post1) (2.4.0)\n",
            "Requirement already satisfied: certifi>=2017.4.17 in /usr/local/lib/python3.11/dist-packages (from requests>=2.26.0->vllm==0.8.5.post1) (2025.4.26)\n",
            "Requirement already satisfied: regex>=2022.1.18 in /usr/local/lib/python3.11/dist-packages (from tiktoken>=0.6.0->vllm==0.8.5.post1) (2024.11.6)\n",
            "Requirement already satisfied: safetensors>=0.4.3 in /usr/local/lib/python3.11/dist-packages (from transformers>=4.51.1->vllm==0.8.5.post1) (0.5.3)\n",
            "Requirement already satisfied: aiohappyeyeballs>=2.3.0 in /usr/local/lib/python3.11/dist-packages (from aiohttp->vllm==0.8.5.post1) (2.6.1)\n",
            "Requirement already satisfied: aiosignal>=1.1.2 in /usr/local/lib/python3.11/dist-packages (from aiohttp->vllm==0.8.5.post1) (1.3.2)\n",
            "Requirement already satisfied: attrs>=17.3.0 in /usr/local/lib/python3.11/dist-packages (from aiohttp->vllm==0.8.5.post1) (25.3.0)\n",
            "Requirement already satisfied: frozenlist>=1.1.1 in /usr/local/lib/python3.11/dist-packages (from aiohttp->vllm==0.8.5.post1) (1.6.0)\n",
            "Requirement already satisfied: multidict<7.0,>=4.5 in /usr/local/lib/python3.11/dist-packages (from aiohttp->vllm==0.8.5.post1) (6.4.3)\n",
            "Requirement already satisfied: propcache>=0.2.0 in /usr/local/lib/python3.11/dist-packages (from aiohttp->vllm==0.8.5.post1) (0.3.1)\n",
            "Requirement already satisfied: yarl<2.0,>=1.17.0 in /usr/local/lib/python3.11/dist-packages (from aiohttp->vllm==0.8.5.post1) (1.20.0)\n",
            "Requirement already satisfied: wrapt<2,>=1.10 in /usr/local/lib/python3.11/dist-packages (from deprecated>=1.2.6->opentelemetry-api<1.27.0,>=1.26.0->vllm==0.8.5.post1) (1.17.2)\n",
            "Collecting dnspython>=2.0.0 (from email-validator>=2.0.0->fastapi[standard]>=0.115.0->vllm==0.8.5.post1)\n",
            "  Downloading dnspython-2.7.0-py3-none-any.whl.metadata (5.8 kB)\n",
            "Requirement already satisfied: typer>=0.12.3 in /usr/local/lib/python3.11/dist-packages (from fastapi-cli>=0.0.5->fastapi-cli[standard]>=0.0.5; extra == \"standard\"->fastapi[standard]>=0.115.0->vllm==0.8.5.post1) (0.15.3)\n",
            "Collecting rich-toolkit>=0.11.1 (from fastapi-cli>=0.0.5->fastapi-cli[standard]>=0.0.5; extra == \"standard\"->fastapi[standard]>=0.115.0->vllm==0.8.5.post1)\n",
            "  Downloading rich_toolkit-0.14.6-py3-none-any.whl.metadata (999 bytes)\n",
            "Requirement already satisfied: httpcore==1.* in /usr/local/lib/python3.11/dist-packages (from httpx>=0.23.0->fastapi[standard]>=0.115.0->vllm==0.8.5.post1) (1.0.9)\n",
            "Requirement already satisfied: h11>=0.16 in /usr/local/lib/python3.11/dist-packages (from httpcore==1.*->httpx>=0.23.0->fastapi[standard]>=0.115.0->vllm==0.8.5.post1) (0.16.0)\n",
            "Requirement already satisfied: MarkupSafe>=2.0 in /usr/local/lib/python3.11/dist-packages (from jinja2->outlines==0.1.11->vllm==0.8.5.post1) (3.0.2)\n",
            "Requirement already satisfied: jsonschema-specifications>=2023.03.6 in /usr/local/lib/python3.11/dist-packages (from jsonschema->outlines==0.1.11->vllm==0.8.5.post1) (2025.4.1)\n",
            "Requirement already satisfied: rpds-py>=0.7.1 in /usr/local/lib/python3.11/dist-packages (from jsonschema->outlines==0.1.11->vllm==0.8.5.post1) (0.24.0)\n",
            "Collecting httptools>=0.6.3 (from uvicorn[standard]>=0.12.0; extra == \"standard\"->fastapi[standard]>=0.115.0->vllm==0.8.5.post1)\n",
            "  Downloading httptools-0.6.4-cp311-cp311-manylinux_2_5_x86_64.manylinux1_x86_64.manylinux_2_17_x86_64.manylinux2014_x86_64.whl.metadata (3.6 kB)\n",
            "Collecting python-dotenv>=0.13 (from uvicorn[standard]>=0.12.0; extra == \"standard\"->fastapi[standard]>=0.115.0->vllm==0.8.5.post1)\n",
            "  Downloading python_dotenv-1.1.0-py3-none-any.whl.metadata (24 kB)\n",
            "Collecting uvloop!=0.15.0,!=0.15.1,>=0.14.0 (from uvicorn[standard]>=0.12.0; extra == \"standard\"->fastapi[standard]>=0.115.0->vllm==0.8.5.post1)\n",
            "  Downloading uvloop-0.21.0-cp311-cp311-manylinux_2_17_x86_64.manylinux2014_x86_64.whl.metadata (4.9 kB)\n",
            "Requirement already satisfied: websockets>=10.4 in /usr/local/lib/python3.11/dist-packages (from uvicorn[standard]>=0.12.0; extra == \"standard\"->fastapi[standard]>=0.115.0->vllm==0.8.5.post1) (15.0.1)\n",
            "Requirement already satisfied: fastrlock>=0.5 in /usr/local/lib/python3.11/dist-packages (from cupy-cuda12x->ray[cgraph]!=2.44.*,>=2.43.0->vllm==0.8.5.post1) (0.8.3)\n",
            "Requirement already satisfied: rich>=13.7.1 in /usr/local/lib/python3.11/dist-packages (from rich-toolkit>=0.11.1->fastapi-cli>=0.0.5->fastapi-cli[standard]>=0.0.5; extra == \"standard\"->fastapi[standard]>=0.115.0->vllm==0.8.5.post1) (13.9.4)\n",
            "Requirement already satisfied: shellingham>=1.3.0 in /usr/local/lib/python3.11/dist-packages (from typer>=0.12.3->fastapi-cli>=0.0.5->fastapi-cli[standard]>=0.0.5; extra == \"standard\"->fastapi[standard]>=0.115.0->vllm==0.8.5.post1) (1.5.4)\n",
            "Requirement already satisfied: markdown-it-py>=2.2.0 in /usr/local/lib/python3.11/dist-packages (from rich>=13.7.1->rich-toolkit>=0.11.1->fastapi-cli>=0.0.5->fastapi-cli[standard]>=0.0.5; extra == \"standard\"->fastapi[standard]>=0.115.0->vllm==0.8.5.post1) (3.0.0)\n",
            "Requirement already satisfied: pygments<3.0.0,>=2.13.0 in /usr/local/lib/python3.11/dist-packages (from rich>=13.7.1->rich-toolkit>=0.11.1->fastapi-cli>=0.0.5->fastapi-cli[standard]>=0.0.5; extra == \"standard\"->fastapi[standard]>=0.115.0->vllm==0.8.5.post1) (2.19.1)\n",
            "Requirement already satisfied: mdurl~=0.1 in /usr/local/lib/python3.11/dist-packages (from markdown-it-py>=2.2.0->rich>=13.7.1->rich-toolkit>=0.11.1->fastapi-cli>=0.0.5->fastapi-cli[standard]>=0.0.5; extra == \"standard\"->fastapi[standard]>=0.115.0->vllm==0.8.5.post1) (0.1.2)\n",
            "Downloading vllm-0.8.5.post1-cp38-abi3-manylinux1_x86_64.whl (326.4 MB)\n",
            "\u001b[2K   \u001b[90m━━━━━━━━━━━━━━━━━━━━━━━━━━━━━━━━━━━━━━━━\u001b[0m \u001b[32m326.4/326.4 MB\u001b[0m \u001b[31m3.6 MB/s\u001b[0m eta \u001b[36m0:00:00\u001b[0m\n",
            "\u001b[?25hDownloading compressed_tensors-0.9.3-py3-none-any.whl (98 kB)\n",
            "\u001b[2K   \u001b[90m━━━━━━━━━━━━━━━━━━━━━━━━━━━━━━━━━━━━━━━━\u001b[0m \u001b[32m98.4/98.4 kB\u001b[0m \u001b[31m7.0 MB/s\u001b[0m eta \u001b[36m0:00:00\u001b[0m\n",
            "\u001b[?25hDownloading depyf-0.18.0-py3-none-any.whl (38 kB)\n",
            "Downloading lark-1.2.2-py3-none-any.whl (111 kB)\n",
            "\u001b[2K   \u001b[90m━━━━━━━━━━━━━━━━━━━━━━━━━━━━━━━━━━━━━━━━\u001b[0m \u001b[32m111.0/111.0 kB\u001b[0m \u001b[31m13.1 MB/s\u001b[0m eta \u001b[36m0:00:00\u001b[0m\n",
            "\u001b[?25hDownloading numba-0.61.2-cp311-cp311-manylinux2014_x86_64.manylinux_2_17_x86_64.whl (3.8 MB)\n",
            "\u001b[2K   \u001b[90m━━━━━━━━━━━━━━━━━━━━━━━━━━━━━━━━━━━━━━━━\u001b[0m \u001b[32m3.8/3.8 MB\u001b[0m \u001b[31m94.2 MB/s\u001b[0m eta \u001b[36m0:00:00\u001b[0m\n",
            "\u001b[?25hDownloading outlines-0.1.11-py3-none-any.whl (87 kB)\n",
            "\u001b[2K   \u001b[90m━━━━━━━━━━━━━━━━━━━━━━━━━━━━━━━━━━━━━━━━\u001b[0m \u001b[32m87.6/87.6 kB\u001b[0m \u001b[31m9.5 MB/s\u001b[0m eta \u001b[36m0:00:00\u001b[0m\n",
            "\u001b[?25hDownloading xformers-0.0.29.post2-cp311-cp311-manylinux_2_28_x86_64.whl (44.3 MB)\n",
            "\u001b[2K   \u001b[90m━━━━━━━━━━━━━━━━━━━━━━━━━━━━━━━━━━━━━━━━\u001b[0m \u001b[32m44.3/44.3 MB\u001b[0m \u001b[31m28.5 MB/s\u001b[0m eta \u001b[36m0:00:00\u001b[0m\n",
            "\u001b[?25hDownloading xgrammar-0.1.18-cp311-cp311-manylinux_2_17_x86_64.manylinux2014_x86_64.whl (4.8 MB)\n",
            "\u001b[2K   \u001b[90m━━━━━━━━━━━━━━━━━━━━━━━━━━━━━━━━━━━━━━━━\u001b[0m \u001b[32m4.8/4.8 MB\u001b[0m \u001b[31m115.6 MB/s\u001b[0m eta \u001b[36m0:00:00\u001b[0m\n",
            "\u001b[?25hDownloading nvidia_cublas_cu12-12.4.5.8-py3-none-manylinux2014_x86_64.whl (363.4 MB)\n",
            "\u001b[2K   \u001b[90m━━━━━━━━━━━━━━━━━━━━━━━━━━━━━━━━━━━━━━━━\u001b[0m \u001b[32m363.4/363.4 MB\u001b[0m \u001b[31m2.9 MB/s\u001b[0m eta \u001b[36m0:00:00\u001b[0m\n",
            "\u001b[?25hDownloading nvidia_cuda_cupti_cu12-12.4.127-py3-none-manylinux2014_x86_64.whl (13.8 MB)\n",
            "\u001b[2K   \u001b[90m━━━━━━━━━━━━━━━━━━━━━━━━━━━━━━━━━━━━━━━━\u001b[0m \u001b[32m13.8/13.8 MB\u001b[0m \u001b[31m118.3 MB/s\u001b[0m eta \u001b[36m0:00:00\u001b[0m\n",
            "\u001b[?25hDownloading nvidia_cuda_nvrtc_cu12-12.4.127-py3-none-manylinux2014_x86_64.whl (24.6 MB)\n",
            "\u001b[2K   \u001b[90m━━━━━━━━━━━━━━━━━━━━━━━━━━━━━━━━━━━━━━━━\u001b[0m \u001b[32m24.6/24.6 MB\u001b[0m \u001b[31m90.6 MB/s\u001b[0m eta \u001b[36m0:00:00\u001b[0m\n",
            "\u001b[?25hDownloading nvidia_cuda_runtime_cu12-12.4.127-py3-none-manylinux2014_x86_64.whl (883 kB)\n",
            "\u001b[2K   \u001b[90m━━━━━━━━━━━━━━━━━━━━━━━━━━━━━━━━━━━━━━━━\u001b[0m \u001b[32m883.7/883.7 kB\u001b[0m \u001b[31m61.1 MB/s\u001b[0m eta \u001b[36m0:00:00\u001b[0m\n",
            "\u001b[?25hDownloading nvidia_cudnn_cu12-9.1.0.70-py3-none-manylinux2014_x86_64.whl (664.8 MB)\n",
            "\u001b[2K   \u001b[90m━━━━━━━━━━━━━━━━━━━━━━━━━━━━━━━━━━━━━━━━\u001b[0m \u001b[32m664.8/664.8 MB\u001b[0m \u001b[31m2.1 MB/s\u001b[0m eta \u001b[36m0:00:00\u001b[0m\n",
            "\u001b[?25hDownloading nvidia_cufft_cu12-11.2.1.3-py3-none-manylinux2014_x86_64.whl (211.5 MB)\n",
            "\u001b[2K   \u001b[90m━━━━━━━━━━━━━━━━━━━━━━━━━━━━━━━━━━━━━━━━\u001b[0m \u001b[32m211.5/211.5 MB\u001b[0m \u001b[31m5.0 MB/s\u001b[0m eta \u001b[36m0:00:00\u001b[0m\n",
            "\u001b[?25hDownloading nvidia_curand_cu12-10.3.5.147-py3-none-manylinux2014_x86_64.whl (56.3 MB)\n",
            "\u001b[2K   \u001b[90m━━━━━━━━━━━━━━━━━━━━━━━━━━━━━━━━━━━━━━━━\u001b[0m \u001b[32m56.3/56.3 MB\u001b[0m \u001b[31m43.4 MB/s\u001b[0m eta \u001b[36m0:00:00\u001b[0m\n",
            "\u001b[?25hDownloading nvidia_cusolver_cu12-11.6.1.9-py3-none-manylinux2014_x86_64.whl (127.9 MB)\n",
            "\u001b[2K   \u001b[90m━━━━━━━━━━━━━━━━━━━━━━━━━━━━━━━━━━━━━━━━\u001b[0m \u001b[32m127.9/127.9 MB\u001b[0m \u001b[31m20.2 MB/s\u001b[0m eta \u001b[36m0:00:00\u001b[0m\n",
            "\u001b[?25hDownloading nvidia_cusparse_cu12-12.3.1.170-py3-none-manylinux2014_x86_64.whl (207.5 MB)\n",
            "\u001b[2K   \u001b[90m━━━━━━━━━━━━━━━━━━━━━━━━━━━━━━━━━━━━━━━━\u001b[0m \u001b[32m207.5/207.5 MB\u001b[0m \u001b[31m5.0 MB/s\u001b[0m eta \u001b[36m0:00:00\u001b[0m\n",
            "\u001b[?25hDownloading nvidia_nvjitlink_cu12-12.4.127-py3-none-manylinux2014_x86_64.whl (21.1 MB)\n",
            "\u001b[2K   \u001b[90m━━━━━━━━━━━━━━━━━━━━━━━━━━━━━━━━━━━━━━━━\u001b[0m \u001b[32m21.1/21.1 MB\u001b[0m \u001b[31m106.3 MB/s\u001b[0m eta \u001b[36m0:00:00\u001b[0m\n",
            "\u001b[?25hDownloading outlines_core-0.1.26-cp311-cp311-manylinux_2_17_x86_64.manylinux2014_x86_64.whl (343 kB)\n",
            "\u001b[2K   \u001b[90m━━━━━━━━━━━━━━━━━━━━━━━━━━━━━━━━━━━━━━━━\u001b[0m \u001b[32m343.3/343.3 kB\u001b[0m \u001b[31m34.9 MB/s\u001b[0m eta \u001b[36m0:00:00\u001b[0m\n",
            "\u001b[?25hDownloading fastapi-0.115.12-py3-none-any.whl (95 kB)\n",
            "\u001b[2K   \u001b[90m━━━━━━━━━━━━━━━━━━━━━━━━━━━━━━━━━━━━━━━━\u001b[0m \u001b[32m95.2/95.2 kB\u001b[0m \u001b[31m12.5 MB/s\u001b[0m eta \u001b[36m0:00:00\u001b[0m\n",
            "\u001b[?25hDownloading gguf-0.16.3-py3-none-any.whl (94 kB)\n",
            "\u001b[2K   \u001b[90m━━━━━━━━━━━━━━━━━━━━━━━━━━━━━━━━━━━━━━━━\u001b[0m \u001b[32m94.4/94.4 kB\u001b[0m \u001b[31m11.7 MB/s\u001b[0m eta \u001b[36m0:00:00\u001b[0m\n",
            "\u001b[?25hDownloading llguidance-0.7.20-cp39-abi3-manylinux_2_17_x86_64.manylinux2014_x86_64.whl (14.3 MB)\n",
            "\u001b[2K   \u001b[90m━━━━━━━━━━━━━━━━━━━━━━━━━━━━━━━━━━━━━━━━\u001b[0m \u001b[32m14.3/14.3 MB\u001b[0m \u001b[31m118.8 MB/s\u001b[0m eta \u001b[36m0:00:00\u001b[0m\n",
            "\u001b[?25hDownloading lm_format_enforcer-0.10.11-py3-none-any.whl (44 kB)\n",
            "\u001b[2K   \u001b[90m━━━━━━━━━━━━━━━━━━━━━━━━━━━━━━━━━━━━━━━━\u001b[0m \u001b[32m44.2/44.2 kB\u001b[0m \u001b[31m4.8 MB/s\u001b[0m eta \u001b[36m0:00:00\u001b[0m\n",
            "\u001b[?25hDownloading mistral_common-1.5.4-py3-none-any.whl (6.5 MB)\n",
            "\u001b[2K   \u001b[90m━━━━━━━━━━━━━━━━━━━━━━━━━━━━━━━━━━━━━━━━\u001b[0m \u001b[32m6.5/6.5 MB\u001b[0m \u001b[31m122.6 MB/s\u001b[0m eta \u001b[36m0:00:00\u001b[0m\n",
            "\u001b[?25hDownloading opentelemetry_api-1.26.0-py3-none-any.whl (61 kB)\n",
            "\u001b[2K   \u001b[90m━━━━━━━━━━━━━━━━━━━━━━━━━━━━━━━━━━━━━━━━\u001b[0m \u001b[32m61.5/61.5 kB\u001b[0m \u001b[31m6.3 MB/s\u001b[0m eta \u001b[36m0:00:00\u001b[0m\n",
            "\u001b[?25hDownloading importlib_metadata-8.0.0-py3-none-any.whl (24 kB)\n",
            "Downloading opentelemetry_exporter_otlp-1.26.0-py3-none-any.whl (7.0 kB)\n",
            "Downloading opentelemetry_exporter_otlp_proto_grpc-1.26.0-py3-none-any.whl (18 kB)\n",
            "Downloading opentelemetry_exporter_otlp_proto_http-1.26.0-py3-none-any.whl (16 kB)\n",
            "Downloading opentelemetry_exporter_otlp_proto_common-1.26.0-py3-none-any.whl (17 kB)\n",
            "Downloading opentelemetry_proto-1.26.0-py3-none-any.whl (52 kB)\n",
            "\u001b[2K   \u001b[90m━━━━━━━━━━━━━━━━━━━━━━━━━━━━━━━━━━━━━━━━\u001b[0m \u001b[32m52.5/52.5 kB\u001b[0m \u001b[31m6.6 MB/s\u001b[0m eta \u001b[36m0:00:00\u001b[0m\n",
            "\u001b[?25hDownloading opentelemetry_sdk-1.26.0-py3-none-any.whl (109 kB)\n",
            "\u001b[2K   \u001b[90m━━━━━━━━━━━━━━━━━━━━━━━━━━━━━━━━━━━━━━━━\u001b[0m \u001b[32m109.5/109.5 kB\u001b[0m \u001b[31m15.1 MB/s\u001b[0m eta \u001b[36m0:00:00\u001b[0m\n",
            "\u001b[?25hDownloading opentelemetry_semantic_conventions-0.47b0-py3-none-any.whl (138 kB)\n",
            "\u001b[2K   \u001b[90m━━━━━━━━━━━━━━━━━━━━━━━━━━━━━━━━━━━━━━━━\u001b[0m \u001b[32m138.0/138.0 kB\u001b[0m \u001b[31m18.1 MB/s\u001b[0m eta \u001b[36m0:00:00\u001b[0m\n",
            "\u001b[?25hDownloading opentelemetry_semantic_conventions_ai-0.4.9-py3-none-any.whl (5.6 kB)\n",
            "Downloading prometheus_fastapi_instrumentator-7.1.0-py3-none-any.whl (19 kB)\n",
            "Downloading protobuf-4.25.7-cp37-abi3-manylinux2014_x86_64.whl (294 kB)\n",
            "\u001b[2K   \u001b[90m━━━━━━━━━━━━━━━━━━━━━━━━━━━━━━━━━━━━━━━━\u001b[0m \u001b[32m294.6/294.6 kB\u001b[0m \u001b[31m31.5 MB/s\u001b[0m eta \u001b[36m0:00:00\u001b[0m\n",
            "\u001b[?25hDownloading pyzmq-26.4.0-cp311-cp311-manylinux_2_28_x86_64.whl (862 kB)\n",
            "\u001b[2K   \u001b[90m━━━━━━━━━━━━━━━━━━━━━━━━━━━━━━━━━━━━━━━━\u001b[0m \u001b[32m862.4/862.4 kB\u001b[0m \u001b[31m63.9 MB/s\u001b[0m eta \u001b[36m0:00:00\u001b[0m\n",
            "\u001b[?25hDownloading ray-2.46.0-cp311-cp311-manylinux2014_x86_64.whl (68.5 MB)\n",
            "\u001b[2K   \u001b[90m━━━━━━━━━━━━━━━━━━━━━━━━━━━━━━━━━━━━━━━━\u001b[0m \u001b[32m68.5/68.5 MB\u001b[0m \u001b[31m36.7 MB/s\u001b[0m eta \u001b[36m0:00:00\u001b[0m\n",
            "\u001b[?25hDownloading blake3-1.0.4-cp311-cp311-manylinux_2_17_x86_64.manylinux2014_x86_64.whl (376 kB)\n",
            "\u001b[2K   \u001b[90m━━━━━━━━━━━━━━━━━━━━━━━━━━━━━━━━━━━━━━━━\u001b[0m \u001b[32m376.2/376.2 kB\u001b[0m \u001b[31m37.1 MB/s\u001b[0m eta \u001b[36m0:00:00\u001b[0m\n",
            "\u001b[?25hDownloading msgspec-0.19.0-cp311-cp311-manylinux_2_17_x86_64.manylinux2014_x86_64.whl (210 kB)\n",
            "\u001b[2K   \u001b[90m━━━━━━━━━━━━━━━━━━━━━━━━━━━━━━━━━━━━━━━━\u001b[0m \u001b[32m210.7/210.7 kB\u001b[0m \u001b[31m24.2 MB/s\u001b[0m eta \u001b[36m0:00:00\u001b[0m\n",
            "\u001b[?25hDownloading ninja-1.11.1.4-py3-none-manylinux_2_12_x86_64.manylinux2010_x86_64.whl (422 kB)\n",
            "\u001b[2K   \u001b[90m━━━━━━━━━━━━━━━━━━━━━━━━━━━━━━━━━━━━━━━━\u001b[0m \u001b[32m422.8/422.8 kB\u001b[0m \u001b[31m33.5 MB/s\u001b[0m eta \u001b[36m0:00:00\u001b[0m\n",
            "\u001b[?25hDownloading partial_json_parser-0.2.1.1.post5-py3-none-any.whl (10 kB)\n",
            "Downloading python_json_logger-3.3.0-py3-none-any.whl (15 kB)\n",
            "Downloading watchfiles-1.0.5-cp311-cp311-manylinux_2_17_x86_64.manylinux2014_x86_64.whl (454 kB)\n",
            "\u001b[2K   \u001b[90m━━━━━━━━━━━━━━━━━━━━━━━━━━━━━━━━━━━━━━━━\u001b[0m \u001b[32m454.8/454.8 kB\u001b[0m \u001b[31m45.7 MB/s\u001b[0m eta \u001b[36m0:00:00\u001b[0m\n",
            "\u001b[?25hDownloading Deprecated-1.2.18-py2.py3-none-any.whl (10.0 kB)\n",
            "Downloading email_validator-2.2.0-py3-none-any.whl (33 kB)\n",
            "Downloading fastapi_cli-0.0.7-py3-none-any.whl (10 kB)\n",
            "Downloading hf_xet-1.1.2-cp37-abi3-manylinux_2_17_x86_64.manylinux2014_x86_64.whl (5.2 MB)\n",
            "\u001b[2K   \u001b[90m━━━━━━━━━━━━━━━━━━━━━━━━━━━━━━━━━━━━━━━━\u001b[0m \u001b[32m5.2/5.2 MB\u001b[0m \u001b[31m117.9 MB/s\u001b[0m eta \u001b[36m0:00:00\u001b[0m\n",
            "\u001b[?25hDownloading interegular-0.3.3-py37-none-any.whl (23 kB)\n",
            "Downloading llvmlite-0.44.0-cp311-cp311-manylinux_2_17_x86_64.manylinux2014_x86_64.whl (42.4 MB)\n",
            "\u001b[2K   \u001b[90m━━━━━━━━━━━━━━━━━━━━━━━━━━━━━━━━━━━━━━━━\u001b[0m \u001b[32m42.4/42.4 MB\u001b[0m \u001b[31m58.2 MB/s\u001b[0m eta \u001b[36m0:00:00\u001b[0m\n",
            "\u001b[?25hDownloading python_multipart-0.0.20-py3-none-any.whl (24 kB)\n",
            "Downloading starlette-0.46.2-py3-none-any.whl (72 kB)\n",
            "\u001b[2K   \u001b[90m━━━━━━━━━━━━━━━━━━━━━━━━━━━━━━━━━━━━━━━━\u001b[0m \u001b[32m72.0/72.0 kB\u001b[0m \u001b[31m9.1 MB/s\u001b[0m eta \u001b[36m0:00:00\u001b[0m\n",
            "\u001b[?25hDownloading uvicorn-0.34.2-py3-none-any.whl (62 kB)\n",
            "\u001b[2K   \u001b[90m━━━━━━━━━━━━━━━━━━━━━━━━━━━━━━━━━━━━━━━━\u001b[0m \u001b[32m62.5/62.5 kB\u001b[0m \u001b[31m7.6 MB/s\u001b[0m eta \u001b[36m0:00:00\u001b[0m\n",
            "\u001b[?25hDownloading airportsdata-20250224-py3-none-any.whl (913 kB)\n",
            "\u001b[2K   \u001b[90m━━━━━━━━━━━━━━━━━━━━━━━━━━━━━━━━━━━━━━━━\u001b[0m \u001b[32m913.7/913.7 kB\u001b[0m \u001b[31m63.1 MB/s\u001b[0m eta \u001b[36m0:00:00\u001b[0m\n",
            "\u001b[?25hDownloading astor-0.8.1-py2.py3-none-any.whl (27 kB)\n",
            "Downloading diskcache-5.6.3-py3-none-any.whl (45 kB)\n",
            "\u001b[2K   \u001b[90m━━━━━━━━━━━━━━━━━━━━━━━━━━━━━━━━━━━━━━━━\u001b[0m \u001b[32m45.5/45.5 kB\u001b[0m \u001b[31m5.2 MB/s\u001b[0m eta \u001b[36m0:00:00\u001b[0m\n",
            "\u001b[?25hDownloading pycountry-24.6.1-py3-none-any.whl (6.3 MB)\n",
            "\u001b[2K   \u001b[90m━━━━━━━━━━━━━━━━━━━━━━━━━━━━━━━━━━━━━━━━\u001b[0m \u001b[32m6.3/6.3 MB\u001b[0m \u001b[31m121.8 MB/s\u001b[0m eta \u001b[36m0:00:00\u001b[0m\n",
            "\u001b[?25hDownloading dnspython-2.7.0-py3-none-any.whl (313 kB)\n",
            "\u001b[2K   \u001b[90m━━━━━━━━━━━━━━━━━━━━━━━━━━━━━━━━━━━━━━━━\u001b[0m \u001b[32m313.6/313.6 kB\u001b[0m \u001b[31m31.7 MB/s\u001b[0m eta \u001b[36m0:00:00\u001b[0m\n",
            "\u001b[?25hDownloading httptools-0.6.4-cp311-cp311-manylinux_2_5_x86_64.manylinux1_x86_64.manylinux_2_17_x86_64.manylinux2014_x86_64.whl (459 kB)\n",
            "\u001b[2K   \u001b[90m━━━━━━━━━━━━━━━━━━━━━━━━━━━━━━━━━━━━━━━━\u001b[0m \u001b[32m459.8/459.8 kB\u001b[0m \u001b[31m42.9 MB/s\u001b[0m eta \u001b[36m0:00:00\u001b[0m\n",
            "\u001b[?25hDownloading python_dotenv-1.1.0-py3-none-any.whl (20 kB)\n",
            "Downloading rich_toolkit-0.14.6-py3-none-any.whl (24 kB)\n",
            "Downloading uvloop-0.21.0-cp311-cp311-manylinux_2_17_x86_64.manylinux2014_x86_64.whl (4.0 MB)\n",
            "\u001b[2K   \u001b[90m━━━━━━━━━━━━━━━━━━━━━━━━━━━━━━━━━━━━━━━━\u001b[0m \u001b[32m4.0/4.0 MB\u001b[0m \u001b[31m126.8 MB/s\u001b[0m eta \u001b[36m0:00:00\u001b[0m\n",
            "\u001b[?25hInstalling collected packages: blake3, uvloop, uvicorn, pyzmq, python-multipart, python-json-logger, python-dotenv, pycountry, protobuf, partial-json-parser, opentelemetry-semantic-conventions-ai, nvidia-nvjitlink-cu12, nvidia-curand-cu12, nvidia-cufft-cu12, nvidia-cuda-runtime-cu12, nvidia-cuda-nvrtc-cu12, nvidia-cuda-cupti-cu12, nvidia-cublas-cu12, ninja, msgspec, llvmlite, llguidance, lark, interegular, importlib_metadata, httptools, hf-xet, gguf, dnspython, diskcache, deprecated, astor, airportsdata, watchfiles, starlette, opentelemetry-proto, opentelemetry-api, nvidia-cusparse-cu12, nvidia-cudnn-cu12, numba, email-validator, depyf, rich-toolkit, prometheus-fastapi-instrumentator, opentelemetry-semantic-conventions, opentelemetry-exporter-otlp-proto-common, nvidia-cusolver-cu12, lm-format-enforcer, fastapi, ray, outlines_core, opentelemetry-sdk, mistral_common, fastapi-cli, xgrammar, xformers, outlines, opentelemetry-exporter-otlp-proto-http, opentelemetry-exporter-otlp-proto-grpc, compressed-tensors, opentelemetry-exporter-otlp, vllm\n",
            "  Attempting uninstall: pyzmq\n",
            "    Found existing installation: pyzmq 24.0.1\n",
            "    Uninstalling pyzmq-24.0.1:\n",
            "      Successfully uninstalled pyzmq-24.0.1\n",
            "  Attempting uninstall: protobuf\n",
            "    Found existing installation: protobuf 5.29.4\n",
            "    Uninstalling protobuf-5.29.4:\n",
            "      Successfully uninstalled protobuf-5.29.4\n",
            "  Attempting uninstall: nvidia-nvjitlink-cu12\n",
            "    Found existing installation: nvidia-nvjitlink-cu12 12.5.82\n",
            "    Uninstalling nvidia-nvjitlink-cu12-12.5.82:\n",
            "      Successfully uninstalled nvidia-nvjitlink-cu12-12.5.82\n",
            "  Attempting uninstall: nvidia-curand-cu12\n",
            "    Found existing installation: nvidia-curand-cu12 10.3.6.82\n",
            "    Uninstalling nvidia-curand-cu12-10.3.6.82:\n",
            "      Successfully uninstalled nvidia-curand-cu12-10.3.6.82\n",
            "  Attempting uninstall: nvidia-cufft-cu12\n",
            "    Found existing installation: nvidia-cufft-cu12 11.2.3.61\n",
            "    Uninstalling nvidia-cufft-cu12-11.2.3.61:\n",
            "      Successfully uninstalled nvidia-cufft-cu12-11.2.3.61\n",
            "  Attempting uninstall: nvidia-cuda-runtime-cu12\n",
            "    Found existing installation: nvidia-cuda-runtime-cu12 12.5.82\n",
            "    Uninstalling nvidia-cuda-runtime-cu12-12.5.82:\n",
            "      Successfully uninstalled nvidia-cuda-runtime-cu12-12.5.82\n",
            "  Attempting uninstall: nvidia-cuda-nvrtc-cu12\n",
            "    Found existing installation: nvidia-cuda-nvrtc-cu12 12.5.82\n",
            "    Uninstalling nvidia-cuda-nvrtc-cu12-12.5.82:\n",
            "      Successfully uninstalled nvidia-cuda-nvrtc-cu12-12.5.82\n",
            "  Attempting uninstall: nvidia-cuda-cupti-cu12\n",
            "    Found existing installation: nvidia-cuda-cupti-cu12 12.5.82\n",
            "    Uninstalling nvidia-cuda-cupti-cu12-12.5.82:\n",
            "      Successfully uninstalled nvidia-cuda-cupti-cu12-12.5.82\n",
            "  Attempting uninstall: nvidia-cublas-cu12\n",
            "    Found existing installation: nvidia-cublas-cu12 12.5.3.2\n",
            "    Uninstalling nvidia-cublas-cu12-12.5.3.2:\n",
            "      Successfully uninstalled nvidia-cublas-cu12-12.5.3.2\n",
            "  Attempting uninstall: llvmlite\n",
            "    Found existing installation: llvmlite 0.43.0\n",
            "    Uninstalling llvmlite-0.43.0:\n",
            "      Successfully uninstalled llvmlite-0.43.0\n",
            "  Attempting uninstall: importlib_metadata\n",
            "    Found existing installation: importlib_metadata 8.7.0\n",
            "    Uninstalling importlib_metadata-8.7.0:\n",
            "      Successfully uninstalled importlib_metadata-8.7.0\n",
            "  Attempting uninstall: nvidia-cusparse-cu12\n",
            "    Found existing installation: nvidia-cusparse-cu12 12.5.1.3\n",
            "    Uninstalling nvidia-cusparse-cu12-12.5.1.3:\n",
            "      Successfully uninstalled nvidia-cusparse-cu12-12.5.1.3\n",
            "  Attempting uninstall: nvidia-cudnn-cu12\n",
            "    Found existing installation: nvidia-cudnn-cu12 9.3.0.75\n",
            "    Uninstalling nvidia-cudnn-cu12-9.3.0.75:\n",
            "      Successfully uninstalled nvidia-cudnn-cu12-9.3.0.75\n",
            "  Attempting uninstall: numba\n",
            "    Found existing installation: numba 0.60.0\n",
            "    Uninstalling numba-0.60.0:\n",
            "      Successfully uninstalled numba-0.60.0\n",
            "  Attempting uninstall: nvidia-cusolver-cu12\n",
            "    Found existing installation: nvidia-cusolver-cu12 11.6.3.83\n",
            "    Uninstalling nvidia-cusolver-cu12-11.6.3.83:\n",
            "      Successfully uninstalled nvidia-cusolver-cu12-11.6.3.83\n",
            "\u001b[31mERROR: pip's dependency resolver does not currently take into account all the packages that are installed. This behaviour is the source of the following dependency conflicts.\n",
            "cuml-cu12 25.2.1 requires numba<0.61.0a0,>=0.59.1, but you have numba 0.61.2 which is incompatible.\n",
            "cudf-cu12 25.2.1 requires numba<0.61.0a0,>=0.59.1, but you have numba 0.61.2 which is incompatible.\n",
            "dask-cuda 25.2.0 requires numba<0.61.0a0,>=0.59.1, but you have numba 0.61.2 which is incompatible.\n",
            "ydf 0.11.0 requires protobuf<6.0.0,>=5.29.1, but you have protobuf 4.25.7 which is incompatible.\n",
            "distributed-ucxx-cu12 0.42.0 requires numba<0.61.0a0,>=0.59.1, but you have numba 0.61.2 which is incompatible.\n",
            "grpcio-status 1.71.0 requires protobuf<6.0dev,>=5.26.1, but you have protobuf 4.25.7 which is incompatible.\u001b[0m\u001b[31m\n",
            "\u001b[0mSuccessfully installed airportsdata-20250224 astor-0.8.1 blake3-1.0.4 compressed-tensors-0.9.3 deprecated-1.2.18 depyf-0.18.0 diskcache-5.6.3 dnspython-2.7.0 email-validator-2.2.0 fastapi-0.115.12 fastapi-cli-0.0.7 gguf-0.16.3 hf-xet-1.1.2 httptools-0.6.4 importlib_metadata-8.0.0 interegular-0.3.3 lark-1.2.2 llguidance-0.7.20 llvmlite-0.44.0 lm-format-enforcer-0.10.11 mistral_common-1.5.4 msgspec-0.19.0 ninja-1.11.1.4 numba-0.61.2 nvidia-cublas-cu12-12.4.5.8 nvidia-cuda-cupti-cu12-12.4.127 nvidia-cuda-nvrtc-cu12-12.4.127 nvidia-cuda-runtime-cu12-12.4.127 nvidia-cudnn-cu12-9.1.0.70 nvidia-cufft-cu12-11.2.1.3 nvidia-curand-cu12-10.3.5.147 nvidia-cusolver-cu12-11.6.1.9 nvidia-cusparse-cu12-12.3.1.170 nvidia-nvjitlink-cu12-12.4.127 opentelemetry-api-1.26.0 opentelemetry-exporter-otlp-1.26.0 opentelemetry-exporter-otlp-proto-common-1.26.0 opentelemetry-exporter-otlp-proto-grpc-1.26.0 opentelemetry-exporter-otlp-proto-http-1.26.0 opentelemetry-proto-1.26.0 opentelemetry-sdk-1.26.0 opentelemetry-semantic-conventions-0.47b0 opentelemetry-semantic-conventions-ai-0.4.9 outlines-0.1.11 outlines_core-0.1.26 partial-json-parser-0.2.1.1.post5 prometheus-fastapi-instrumentator-7.1.0 protobuf-4.25.7 pycountry-24.6.1 python-dotenv-1.1.0 python-json-logger-3.3.0 python-multipart-0.0.20 pyzmq-26.4.0 ray-2.46.0 rich-toolkit-0.14.6 starlette-0.46.2 uvicorn-0.34.2 uvloop-0.21.0 vllm-0.8.5.post1 watchfiles-1.0.5 xformers-0.0.29.post2 xgrammar-0.1.18\n"
          ]
        },
        {
          "output_type": "display_data",
          "data": {
            "application/vnd.colab-display-data+json": {
              "pip_warning": {
                "packages": [
                  "importlib_metadata"
                ]
              },
              "id": "44fcfe70fcf049999edf5f4d70092562"
            }
          },
          "metadata": {}
        }
      ]
    },
    {
      "cell_type": "code",
      "source": [
        "!pip freeze | grep vllm"
      ],
      "metadata": {
        "colab": {
          "base_uri": "https://localhost:8080/"
        },
        "id": "UUYh15SRm0x1",
        "outputId": "993b94c7-39c2-46e2-e26e-961c590c73a7"
      },
      "execution_count": null,
      "outputs": [
        {
          "output_type": "stream",
          "name": "stdout",
          "text": [
            "vllm==0.8.5.post1\n"
          ]
        }
      ]
    },
    {
      "cell_type": "code",
      "source": [
        "!nvidia-smi"
      ],
      "metadata": {
        "colab": {
          "base_uri": "https://localhost:8080/"
        },
        "id": "aV_4_IsByUUt",
        "outputId": "7a9fbcaa-8199-4392-addf-514a2e214b11"
      },
      "execution_count": null,
      "outputs": [
        {
          "output_type": "stream",
          "name": "stdout",
          "text": [
            "Sat May 17 20:42:58 2025       \n",
            "+-----------------------------------------------------------------------------------------+\n",
            "| NVIDIA-SMI 550.54.15              Driver Version: 550.54.15      CUDA Version: 12.4     |\n",
            "|-----------------------------------------+------------------------+----------------------+\n",
            "| GPU  Name                 Persistence-M | Bus-Id          Disp.A | Volatile Uncorr. ECC |\n",
            "| Fan  Temp   Perf          Pwr:Usage/Cap |           Memory-Usage | GPU-Util  Compute M. |\n",
            "|                                         |                        |               MIG M. |\n",
            "|=========================================+========================+======================|\n",
            "|   0  NVIDIA L4                      Off |   00000000:00:03.0 Off |                    0 |\n",
            "| N/A   37C    P8             11W /   72W |       0MiB /  23034MiB |      0%      Default |\n",
            "|                                         |                        |                  N/A |\n",
            "+-----------------------------------------+------------------------+----------------------+\n",
            "                                                                                         \n",
            "+-----------------------------------------------------------------------------------------+\n",
            "| Processes:                                                                              |\n",
            "|  GPU   GI   CI        PID   Type   Process name                              GPU Memory |\n",
            "|        ID   ID                                                               Usage      |\n",
            "|=========================================================================================|\n",
            "|  No running processes found                                                             |\n",
            "+-----------------------------------------------------------------------------------------+\n"
          ]
        }
      ]
    },
    {
      "cell_type": "code",
      "source": [
        "!wget https://huggingface.co/datasets/anon8231489123/ShareGPT_Vicuna_unfiltered/resolve/main/ShareGPT_V3_unfiltered_cleaned_split.json\n",
        "!git clone https://github.com/vllm-project/vllm.git"
      ],
      "metadata": {
        "id": "cA1Dh2-CVze1",
        "colab": {
          "base_uri": "https://localhost:8080/"
        },
        "outputId": "7a3ca57c-a840-4bd3-a895-adc5e142df79"
      },
      "execution_count": null,
      "outputs": [
        {
          "output_type": "stream",
          "name": "stdout",
          "text": [
            "--2025-05-17 20:42:58--  https://huggingface.co/datasets/anon8231489123/ShareGPT_Vicuna_unfiltered/resolve/main/ShareGPT_V3_unfiltered_cleaned_split.json\n",
            "Resolving huggingface.co (huggingface.co)... 13.35.202.97, 13.35.202.34, 13.35.202.121, ...\n",
            "Connecting to huggingface.co (huggingface.co)|13.35.202.97|:443... connected.\n",
            "HTTP request sent, awaiting response... 302 Found\n",
            "Location: https://cdn-lfs.hf.co/repos/58/74/5874e8234cbcd37dd31ca486e8492d9f1370bdd04829001f53991a866851e83f/35f0e213ce091ed9b9af2a1f0755e9d39f9ccec34ab281cd4ca60d70f6479ba4?response-content-disposition=inline%3B+filename*%3DUTF-8%27%27ShareGPT_V3_unfiltered_cleaned_split.json%3B+filename%3D%22ShareGPT_V3_unfiltered_cleaned_split.json%22%3B&response-content-type=application%2Fjson&Expires=1747518178&Policy=eyJTdGF0ZW1lbnQiOlt7IkNvbmRpdGlvbiI6eyJEYXRlTGVzc1RoYW4iOnsiQVdTOkVwb2NoVGltZSI6MTc0NzUxODE3OH19LCJSZXNvdXJjZSI6Imh0dHBzOi8vY2RuLWxmcy5oZi5jby9yZXBvcy81OC83NC81ODc0ZTgyMzRjYmNkMzdkZDMxY2E0ODZlODQ5MmQ5ZjEzNzBiZGQwNDgyOTAwMWY1Mzk5MWE4NjY4NTFlODNmLzM1ZjBlMjEzY2UwOTFlZDliOWFmMmExZjA3NTVlOWQzOWY5Y2NlYzM0YWIyODFjZDRjYTYwZDcwZjY0NzliYTQ%7EcmVzcG9uc2UtY29udGVudC1kaXNwb3NpdGlvbj0qJnJlc3BvbnNlLWNvbnRlbnQtdHlwZT0qIn1dfQ__&Signature=AkFynzi2g2hn-LBzpKqiAwtMP91qkvOZpkPUrd9tOjjgHOyaXWOZWUxU1%7Els3NSqAo0WMoiYDDceAr8RXMMjx49FYM9hrvP79CphIo99qcjYYnc1QIcZ09e5ZzTjLnrN9A6swKmAlCrT5FG7%7EaY-6ZKZAIIHF5A%7EyjG7EOmAmCg7pQ0fyrvWvk6xtEospGkI5lE22%7EHLWhZdt-g1%7EucngR98DJEX6u7T5Ls4ISqx0kgI2X-bKOZXjMFnwSfWR-KamPcNgEVOtq-jA63bO%7EN6JehWlF6bmtHVqKjDxsO23p5W%7EiUpflSxC8Ie-TiIYtTmr6N44HNcWMRqthb3TV-0rQ__&Key-Pair-Id=K3RPWS32NSSJCE [following]\n",
            "--2025-05-17 20:42:58--  https://cdn-lfs.hf.co/repos/58/74/5874e8234cbcd37dd31ca486e8492d9f1370bdd04829001f53991a866851e83f/35f0e213ce091ed9b9af2a1f0755e9d39f9ccec34ab281cd4ca60d70f6479ba4?response-content-disposition=inline%3B+filename*%3DUTF-8%27%27ShareGPT_V3_unfiltered_cleaned_split.json%3B+filename%3D%22ShareGPT_V3_unfiltered_cleaned_split.json%22%3B&response-content-type=application%2Fjson&Expires=1747518178&Policy=eyJTdGF0ZW1lbnQiOlt7IkNvbmRpdGlvbiI6eyJEYXRlTGVzc1RoYW4iOnsiQVdTOkVwb2NoVGltZSI6MTc0NzUxODE3OH19LCJSZXNvdXJjZSI6Imh0dHBzOi8vY2RuLWxmcy5oZi5jby9yZXBvcy81OC83NC81ODc0ZTgyMzRjYmNkMzdkZDMxY2E0ODZlODQ5MmQ5ZjEzNzBiZGQwNDgyOTAwMWY1Mzk5MWE4NjY4NTFlODNmLzM1ZjBlMjEzY2UwOTFlZDliOWFmMmExZjA3NTVlOWQzOWY5Y2NlYzM0YWIyODFjZDRjYTYwZDcwZjY0NzliYTQ%7EcmVzcG9uc2UtY29udGVudC1kaXNwb3NpdGlvbj0qJnJlc3BvbnNlLWNvbnRlbnQtdHlwZT0qIn1dfQ__&Signature=AkFynzi2g2hn-LBzpKqiAwtMP91qkvOZpkPUrd9tOjjgHOyaXWOZWUxU1%7Els3NSqAo0WMoiYDDceAr8RXMMjx49FYM9hrvP79CphIo99qcjYYnc1QIcZ09e5ZzTjLnrN9A6swKmAlCrT5FG7%7EaY-6ZKZAIIHF5A%7EyjG7EOmAmCg7pQ0fyrvWvk6xtEospGkI5lE22%7EHLWhZdt-g1%7EucngR98DJEX6u7T5Ls4ISqx0kgI2X-bKOZXjMFnwSfWR-KamPcNgEVOtq-jA63bO%7EN6JehWlF6bmtHVqKjDxsO23p5W%7EiUpflSxC8Ie-TiIYtTmr6N44HNcWMRqthb3TV-0rQ__&Key-Pair-Id=K3RPWS32NSSJCE\n",
            "Resolving cdn-lfs.hf.co (cdn-lfs.hf.co)... 18.155.68.85, 18.155.68.87, 18.155.68.34, ...\n",
            "Connecting to cdn-lfs.hf.co (cdn-lfs.hf.co)|18.155.68.85|:443... connected.\n",
            "HTTP request sent, awaiting response... 200 OK\n",
            "Length: 672837942 (642M) [application/json]\n",
            "Saving to: ‘ShareGPT_V3_unfiltered_cleaned_split.json’\n",
            "\n",
            "ShareGPT_V3_unfilte 100%[===================>] 641.67M   461MB/s    in 1.4s    \n",
            "\n",
            "2025-05-17 20:43:00 (461 MB/s) - ‘ShareGPT_V3_unfiltered_cleaned_split.json’ saved [672837942/672837942]\n",
            "\n",
            "Cloning into 'vllm'...\n",
            "remote: Enumerating objects: 75422, done.\u001b[K\n",
            "remote: Counting objects: 100% (3/3), done.\u001b[K\n",
            "remote: Compressing objects: 100% (3/3), done.\u001b[K\n",
            "remote: Total 75422 (delta 1), reused 0 (delta 0), pack-reused 75419 (from 3)\u001b[K\n",
            "Receiving objects: 100% (75422/75422), 52.11 MiB | 13.08 MiB/s, done.\n",
            "Resolving deltas: 100% (59014/59014), done.\n"
          ]
        }
      ]
    },
    {
      "cell_type": "code",
      "source": [
        "import torch; print(torch.__version__); print(torch.version.cuda)\n",
        "import time\n",
        "import vllm\n",
        "import os\n",
        "\n",
        "#vllm_dir = os.path.dirname(vllm.__file__)\n",
        "benchmark_script = \"vllm/benchmarks/benchmark_serving.py\""
      ],
      "metadata": {
        "id": "nW8SMN7-f7Q6",
        "colab": {
          "base_uri": "https://localhost:8080/"
        },
        "outputId": "400e3df4-8c99-4811-ad61-62fa2932b918"
      },
      "execution_count": null,
      "outputs": [
        {
          "output_type": "stream",
          "name": "stdout",
          "text": [
            "2.6.0+cu124\n",
            "12.4\n",
            "INFO 05-17 20:43:18 [__init__.py:239] Automatically detected platform cuda.\n"
          ]
        }
      ]
    },
    {
      "cell_type": "code",
      "source": [],
      "metadata": {
        "id": "_UXwRx87VuY1"
      },
      "execution_count": null,
      "outputs": []
    },
    {
      "cell_type": "code",
      "source": [
        "# prompts = [\n",
        "#     \"Who is Lionel Messi?\",\n",
        "#     \"How many parameters does BERT-large have?\",\n",
        "#     \"What is a Machine Learning Engineer?\",\n",
        "#     \"Explain the size of ChatGPT model please\",\n",
        "# ]"
      ],
      "metadata": {
        "id": "DREoPdcH8U1B"
      },
      "execution_count": null,
      "outputs": []
    },
    {
      "cell_type": "code",
      "source": [
        "hf_model_id = \"Qwen/Qwen2.5-7B-Instruct\" # -AWQ"
      ],
      "metadata": {
        "id": "Rtad81xIKStP"
      },
      "execution_count": null,
      "outputs": []
    },
    {
      "cell_type": "code",
      "source": [
        "!nohup vllm serve {hf_model_id} \\\n",
        "       --disable-log-requests \\\n",
        "       > vllm.log 2>&1 &"
      ],
      "metadata": {
        "id": "JppUc6fCkCbR"
      },
      "execution_count": null,
      "outputs": []
    },
    {
      "cell_type": "code",
      "source": [
        "import time\n",
        "import requests\n",
        "\n",
        "\n",
        "def check_vllm_status():\n",
        "  max_retries = 100  # e.g. wait up to 60 seconds (30 x 2s)\n",
        "  wait_time = 10\n",
        "\n",
        "  print(\"⏳ Waiting for vLLM server to become healthy...\")\n",
        "\n",
        "  for i in range(max_retries):\n",
        "      try:\n",
        "          r = requests.get(\"http://127.0.0.1:8000/health\")\n",
        "          if r.ok:\n",
        "              print(\"✅ vLLM server is healthy and ready!\")\n",
        "              break\n",
        "      except Exception as e:\n",
        "          print(f\"Attempt {i+1}: Not ready yet...\")\n",
        "\n",
        "      time.sleep(wait_time)\n",
        "  else:\n",
        "      print(\"❌ Timed out waiting for vLLM server to start.\")\n",
        "  return\n",
        "check_vllm_status()"
      ],
      "metadata": {
        "colab": {
          "base_uri": "https://localhost:8080/"
        },
        "id": "OiJrAMjTpZ36",
        "outputId": "8b848377-9437-447e-82c8-1ff345923d51"
      },
      "execution_count": null,
      "outputs": [
        {
          "output_type": "stream",
          "name": "stdout",
          "text": [
            "⏳ Waiting for vLLM server to become healthy...\n",
            "Attempt 1: Not ready yet...\n",
            "Attempt 2: Not ready yet...\n",
            "Attempt 3: Not ready yet...\n",
            "Attempt 4: Not ready yet...\n",
            "Attempt 5: Not ready yet...\n",
            "Attempt 6: Not ready yet...\n",
            "Attempt 7: Not ready yet...\n",
            "Attempt 8: Not ready yet...\n",
            "Attempt 9: Not ready yet...\n",
            "Attempt 10: Not ready yet...\n",
            "Attempt 11: Not ready yet...\n",
            "Attempt 12: Not ready yet...\n",
            "Attempt 13: Not ready yet...\n",
            "Attempt 14: Not ready yet...\n",
            "Attempt 15: Not ready yet...\n",
            "✅ vLLM server is healthy and ready!\n"
          ]
        }
      ]
    },
    {
      "cell_type": "code",
      "source": [
        "!tail -n 300 vllm.log"
      ],
      "metadata": {
        "id": "IZQ-YyjyVo6V",
        "colab": {
          "base_uri": "https://localhost:8080/"
        },
        "outputId": "a684b1c2-58e5-40f0-9ca5-e641860c1cf6"
      },
      "execution_count": null,
      "outputs": [
        {
          "output_type": "stream",
          "name": "stdout",
          "text": [
            "INFO 05-17 21:20:41 [__init__.py:239] Automatically detected platform cuda.\n",
            "2025-05-17 21:20:42.136630: E external/local_xla/xla/stream_executor/cuda/cuda_fft.cc:477] Unable to register cuFFT factory: Attempting to register factory for plugin cuFFT when one has already been registered\n",
            "WARNING: All log messages before absl::InitializeLog() is called are written to STDERR\n",
            "E0000 00:00:1747516842.158654   13957 cuda_dnn.cc:8310] Unable to register cuDNN factory: Attempting to register factory for plugin cuDNN when one has already been registered\n",
            "E0000 00:00:1747516842.165328   13957 cuda_blas.cc:1418] Unable to register cuBLAS factory: Attempting to register factory for plugin cuBLAS when one has already been registered\n",
            "INFO 05-17 21:20:50 [api_server.py:1043] vLLM API server version 0.8.5.post1\n",
            "INFO 05-17 21:20:50 [api_server.py:1044] args: Namespace(subparser='serve', model_tag='Qwen/Qwen2.5-7B-Instruct', config='', host=None, port=8000, uvicorn_log_level='info', disable_uvicorn_access_log=False, allow_credentials=False, allowed_origins=['*'], allowed_methods=['*'], allowed_headers=['*'], api_key=None, lora_modules=None, prompt_adapters=None, chat_template=None, chat_template_content_format='auto', response_role='assistant', ssl_keyfile=None, ssl_certfile=None, ssl_ca_certs=None, enable_ssl_refresh=False, ssl_cert_reqs=0, root_path=None, middleware=[], return_tokens_as_token_ids=False, disable_frontend_multiprocessing=False, enable_request_id_headers=False, enable_auto_tool_choice=False, tool_call_parser=None, tool_parser_plugin='', model='Qwen/Qwen2.5-7B-Instruct', task='auto', tokenizer=None, hf_config_path=None, skip_tokenizer_init=False, revision=None, code_revision=None, tokenizer_revision=None, tokenizer_mode='auto', trust_remote_code=False, allowed_local_media_path=None, load_format='auto', download_dir=None, model_loader_extra_config={}, use_tqdm_on_load=True, config_format=<ConfigFormat.AUTO: 'auto'>, dtype='auto', max_model_len=None, guided_decoding_backend='auto', reasoning_parser=None, logits_processor_pattern=None, model_impl='auto', distributed_executor_backend=None, pipeline_parallel_size=1, tensor_parallel_size=1, data_parallel_size=1, enable_expert_parallel=False, max_parallel_loading_workers=None, ray_workers_use_nsight=False, disable_custom_all_reduce=False, block_size=None, gpu_memory_utilization=0.9, swap_space=4, kv_cache_dtype='auto', num_gpu_blocks_override=None, enable_prefix_caching=None, prefix_caching_hash_algo='builtin', cpu_offload_gb=0, calculate_kv_scales=False, disable_sliding_window=False, use_v2_block_manager=True, seed=None, max_logprobs=20, disable_log_stats=False, quantization=None, rope_scaling=None, rope_theta=None, hf_token=None, hf_overrides=None, enforce_eager=False, max_seq_len_to_capture=8192, tokenizer_pool_size=0, tokenizer_pool_type='ray', tokenizer_pool_extra_config={}, limit_mm_per_prompt={}, mm_processor_kwargs=None, disable_mm_preprocessor_cache=False, enable_lora=None, enable_lora_bias=False, max_loras=1, max_lora_rank=16, lora_extra_vocab_size=256, lora_dtype='auto', long_lora_scaling_factors=None, max_cpu_loras=None, fully_sharded_loras=False, enable_prompt_adapter=None, max_prompt_adapters=1, max_prompt_adapter_token=0, device='auto', speculative_config=None, ignore_patterns=[], served_model_name=None, qlora_adapter_name_or_path=None, show_hidden_metrics_for_version=None, otlp_traces_endpoint=None, collect_detailed_traces=None, disable_async_output_proc=False, max_num_batched_tokens=None, max_num_seqs=None, max_num_partial_prefills=1, max_long_partial_prefills=1, long_prefill_token_threshold=0, num_lookahead_slots=0, scheduler_delay_factor=0.0, preemption_mode=None, num_scheduler_steps=1, multi_step_stream_outputs=True, scheduling_policy='fcfs', enable_chunked_prefill=None, disable_chunked_mm_input=False, scheduler_cls='vllm.core.scheduler.Scheduler', override_neuron_config=None, override_pooler_config=None, compilation_config=None, kv_transfer_config=None, worker_cls='auto', worker_extension_cls='', generation_config='auto', override_generation_config=None, enable_sleep_mode=False, additional_config=None, enable_reasoning=False, disable_cascade_attn=False, disable_log_requests=True, max_log_len=None, disable_fastapi_docs=False, enable_prompt_tokens_details=False, enable_server_load_tracking=False, dispatch_function=<function ServeSubcommand.cmd at 0x7b9b5f61e0c0>)\n",
            "INFO 05-17 21:21:05 [config.py:717] This model supports multiple tasks: {'generate', 'classify', 'embed', 'score', 'reward'}. Defaulting to 'generate'.\n",
            "INFO 05-17 21:21:05 [config.py:2003] Chunked prefill is enabled with max_num_batched_tokens=2048.\n",
            "INFO 05-17 21:21:11 [__init__.py:239] Automatically detected platform cuda.\n",
            "2025-05-17 21:21:12.543427: E external/local_xla/xla/stream_executor/cuda/cuda_fft.cc:477] Unable to register cuFFT factory: Attempting to register factory for plugin cuFFT when one has already been registered\n",
            "WARNING: All log messages before absl::InitializeLog() is called are written to STDERR\n",
            "E0000 00:00:1747516872.564496   14180 cuda_dnn.cc:8310] Unable to register cuDNN factory: Attempting to register factory for plugin cuDNN when one has already been registered\n",
            "E0000 00:00:1747516872.570953   14180 cuda_blas.cc:1418] Unable to register cuBLAS factory: Attempting to register factory for plugin cuBLAS when one has already been registered\n",
            "INFO 05-17 21:21:18 [core.py:58] Initializing a V1 LLM engine (v0.8.5.post1) with config: model='Qwen/Qwen2.5-7B-Instruct', speculative_config=None, tokenizer='Qwen/Qwen2.5-7B-Instruct', skip_tokenizer_init=False, tokenizer_mode=auto, revision=None, override_neuron_config=None, tokenizer_revision=None, trust_remote_code=False, dtype=torch.bfloat16, max_seq_len=32768, download_dir=None, load_format=LoadFormat.AUTO, tensor_parallel_size=1, pipeline_parallel_size=1, disable_custom_all_reduce=False, quantization=None, enforce_eager=False, kv_cache_dtype=auto,  device_config=cuda, decoding_config=DecodingConfig(guided_decoding_backend='auto', reasoning_backend=None), observability_config=ObservabilityConfig(show_hidden_metrics=False, otlp_traces_endpoint=None, collect_model_forward_time=False, collect_model_execute_time=False), seed=None, served_model_name=Qwen/Qwen2.5-7B-Instruct, num_scheduler_steps=1, multi_step_stream_outputs=True, enable_prefix_caching=True, chunked_prefill_enabled=True, use_async_output_proc=True, disable_mm_preprocessor_cache=False, mm_processor_kwargs=None, pooler_config=None, compilation_config={\"level\":3,\"custom_ops\":[\"none\"],\"splitting_ops\":[\"vllm.unified_attention\",\"vllm.unified_attention_with_output\"],\"use_inductor\":true,\"compile_sizes\":[],\"use_cudagraph\":true,\"cudagraph_num_of_warmups\":1,\"cudagraph_capture_sizes\":[512,504,496,488,480,472,464,456,448,440,432,424,416,408,400,392,384,376,368,360,352,344,336,328,320,312,304,296,288,280,272,264,256,248,240,232,224,216,208,200,192,184,176,168,160,152,144,136,128,120,112,104,96,88,80,72,64,56,48,40,32,24,16,8,4,2,1],\"max_capture_size\":512}\n",
            "WARNING 05-17 21:21:18 [utils.py:2522] Methods determine_num_available_blocks,device_config,get_cache_block_size_bytes,initialize_cache not implemented in <vllm.v1.worker.gpu_worker.Worker object at 0x7db8bdb07190>\n",
            "INFO 05-17 21:21:19 [parallel_state.py:1004] rank 0 in world size 1 is assigned as DP rank 0, PP rank 0, TP rank 0\n",
            "INFO 05-17 21:21:19 [cuda.py:221] Using Flash Attention backend on V1 engine.\n",
            "WARNING 05-17 21:21:19 [topk_topp_sampler.py:69] FlashInfer is not available. Falling back to the PyTorch-native implementation of top-p & top-k sampling. For the best performance, please install FlashInfer.\n",
            "INFO 05-17 21:21:19 [gpu_model_runner.py:1329] Starting to load model Qwen/Qwen2.5-7B-Instruct...\n",
            "INFO 05-17 21:21:19 [weight_utils.py:265] Using model weights format ['*.safetensors']\n",
            "\rLoading safetensors checkpoint shards:   0% Completed | 0/4 [00:00<?, ?it/s]\n",
            "\rLoading safetensors checkpoint shards:  25% Completed | 1/4 [00:12<00:36, 12.20s/it]\n",
            "\rLoading safetensors checkpoint shards:  50% Completed | 2/4 [00:22<00:21, 10.81s/it]\n",
            "\rLoading safetensors checkpoint shards:  75% Completed | 3/4 [00:31<00:10, 10.38s/it]\n",
            "\rLoading safetensors checkpoint shards: 100% Completed | 4/4 [00:43<00:00, 10.75s/it]\n",
            "\rLoading safetensors checkpoint shards: 100% Completed | 4/4 [00:43<00:00, 10.81s/it]\n",
            "\n",
            "INFO 05-17 21:22:03 [loader.py:458] Loading weights took 43.32 seconds\n",
            "INFO 05-17 21:22:04 [gpu_model_runner.py:1347] Model loading took 14.2488 GiB and 44.526278 seconds\n",
            "INFO 05-17 21:22:14 [backends.py:420] Using cache directory: /root/.cache/vllm/torch_compile_cache/ff2dd93a4e/rank_0_0 for vLLM's torch.compile\n",
            "INFO 05-17 21:22:14 [backends.py:430] Dynamo bytecode transform time: 10.11 s\n",
            "INFO 05-17 21:22:21 [backends.py:118] Directly load the compiled graph(s) for shape None from the cache, took 6.702 s\n",
            "INFO 05-17 21:22:22 [monitor.py:33] torch.compile takes 10.11 s in total\n",
            "INFO 05-17 21:22:23 [kv_cache_utils.py:634] GPU KV cache size: 75,088 tokens\n",
            "INFO 05-17 21:22:23 [kv_cache_utils.py:637] Maximum concurrency for 32,768 tokens per request: 2.29x\n",
            "INFO 05-17 21:23:00 [gpu_model_runner.py:1686] Graph capturing finished in 36 secs, took 0.48 GiB\n",
            "INFO 05-17 21:23:00 [core.py:159] init engine (profile, create kv cache, warmup model) took 56.21 seconds\n",
            "INFO 05-17 21:23:00 [core_client.py:439] Core engine process 0 ready.\n",
            "WARNING 05-17 21:23:00 [config.py:1239] Default sampling parameters have been overridden by the model's Hugging Face generation config recommended from the model creator. If this is not intended, please relaunch vLLM instance with `--generation-config vllm`.\n",
            "INFO 05-17 21:23:00 [serving_chat.py:118] Using default chat sampling params from model: {'repetition_penalty': 1.05, 'temperature': 0.7, 'top_k': 20, 'top_p': 0.8}\n",
            "INFO 05-17 21:23:00 [serving_completion.py:61] Using default completion sampling params from model: {'repetition_penalty': 1.05, 'temperature': 0.7, 'top_k': 20, 'top_p': 0.8}\n",
            "INFO 05-17 21:23:00 [api_server.py:1090] Starting vLLM API server on http://0.0.0.0:8000\n",
            "INFO 05-17 21:23:00 [launcher.py:28] Available routes are:\n",
            "INFO 05-17 21:23:00 [launcher.py:36] Route: /openapi.json, Methods: HEAD, GET\n",
            "INFO 05-17 21:23:00 [launcher.py:36] Route: /docs, Methods: HEAD, GET\n",
            "INFO 05-17 21:23:00 [launcher.py:36] Route: /docs/oauth2-redirect, Methods: HEAD, GET\n",
            "INFO 05-17 21:23:00 [launcher.py:36] Route: /redoc, Methods: HEAD, GET\n",
            "INFO 05-17 21:23:00 [launcher.py:36] Route: /health, Methods: GET\n",
            "INFO 05-17 21:23:00 [launcher.py:36] Route: /load, Methods: GET\n",
            "INFO 05-17 21:23:00 [launcher.py:36] Route: /ping, Methods: POST, GET\n",
            "INFO 05-17 21:23:00 [launcher.py:36] Route: /tokenize, Methods: POST\n",
            "INFO 05-17 21:23:00 [launcher.py:36] Route: /detokenize, Methods: POST\n",
            "INFO 05-17 21:23:00 [launcher.py:36] Route: /v1/models, Methods: GET\n",
            "INFO 05-17 21:23:00 [launcher.py:36] Route: /version, Methods: GET\n",
            "INFO 05-17 21:23:00 [launcher.py:36] Route: /v1/chat/completions, Methods: POST\n",
            "INFO 05-17 21:23:00 [launcher.py:36] Route: /v1/completions, Methods: POST\n",
            "INFO 05-17 21:23:00 [launcher.py:36] Route: /v1/embeddings, Methods: POST\n",
            "INFO 05-17 21:23:00 [launcher.py:36] Route: /pooling, Methods: POST\n",
            "INFO 05-17 21:23:00 [launcher.py:36] Route: /score, Methods: POST\n",
            "INFO 05-17 21:23:00 [launcher.py:36] Route: /v1/score, Methods: POST\n",
            "INFO 05-17 21:23:00 [launcher.py:36] Route: /v1/audio/transcriptions, Methods: POST\n",
            "INFO 05-17 21:23:00 [launcher.py:36] Route: /rerank, Methods: POST\n",
            "INFO 05-17 21:23:00 [launcher.py:36] Route: /v1/rerank, Methods: POST\n",
            "INFO 05-17 21:23:00 [launcher.py:36] Route: /v2/rerank, Methods: POST\n",
            "INFO 05-17 21:23:00 [launcher.py:36] Route: /invocations, Methods: POST\n",
            "INFO 05-17 21:23:00 [launcher.py:36] Route: /metrics, Methods: GET\n",
            "INFO:     Started server process [13957]\n",
            "INFO:     Waiting for application startup.\n",
            "INFO:     Application startup complete.\n",
            "INFO:     127.0.0.1:45122 - \"GET /health HTTP/1.1\" 200 OK\n"
          ]
        }
      ]
    },
    {
      "cell_type": "code",
      "source": [
        "!python3 {benchmark_script} \\\n",
        "  --backend vllm \\\n",
        "  --model {hf_model_id} \\\n",
        "  --endpoint /v1/completions \\\n",
        "  --dataset-name sharegpt \\\n",
        "  --dataset-path /content/ShareGPT_V3_unfiltered_cleaned_split.json \\\n",
        "  --num-prompts 10 \\\n",
        "  --max-concurrency 1 \\\n",
        "  --save-result \\\n",
        "  --append-result \\\n",
        "  --result-filename vllm_bench.json"
      ],
      "metadata": {
        "id": "bV1DrBQwpZ8P",
        "colab": {
          "base_uri": "https://localhost:8080/"
        },
        "outputId": "ab4e2769-aadd-4847-f561-5a902ac464e9"
      },
      "execution_count": null,
      "outputs": [
        {
          "output_type": "stream",
          "name": "stdout",
          "text": [
            "INFO 05-17 21:23:12 [importing.py:53] Triton module has been replaced with a placeholder.\n",
            "INFO 05-17 21:23:12 [__init__.py:239] Automatically detected platform cuda.\n",
            "2025-05-17 21:23:12.963145: E external/local_xla/xla/stream_executor/cuda/cuda_fft.cc:477] Unable to register cuFFT factory: Attempting to register factory for plugin cuFFT when one has already been registered\n",
            "WARNING: All log messages before absl::InitializeLog() is called are written to STDERR\n",
            "E0000 00:00:1747516992.984817   14773 cuda_dnn.cc:8310] Unable to register cuDNN factory: Attempting to register factory for plugin cuDNN when one has already been registered\n",
            "E0000 00:00:1747516992.991432   14773 cuda_blas.cc:1418] Unable to register cuBLAS factory: Attempting to register factory for plugin cuBLAS when one has already been registered\n",
            "Namespace(backend='vllm', base_url=None, host='127.0.0.1', port=8000, endpoint='/v1/completions', dataset_name='sharegpt', dataset_path='/content/ShareGPT_V3_unfiltered_cleaned_split.json', max_concurrency=1, model='Qwen/Qwen2.5-7B-Instruct', tokenizer=None, use_beam_search=False, num_prompts=10, logprobs=None, request_rate=inf, burstiness=1.0, seed=0, trust_remote_code=False, disable_tqdm=False, profile=False, save_result=True, save_detailed=False, append_result=True, metadata=None, result_dir=None, result_filename='vllm_bench.json', ignore_eos=False, percentile_metrics='ttft,tpot,itl', metric_percentiles='99', goodput=None, sonnet_input_len=550, sonnet_output_len=150, sonnet_prefix_len=200, sharegpt_output_len=None, random_input_len=1024, random_output_len=128, random_range_ratio=0.0, random_prefix_len=0, hf_subset=None, hf_split=None, hf_output_len=None, top_p=None, top_k=None, min_p=None, temperature=None, tokenizer_mode='auto', served_model_name=None, lora_modules=None)\n",
            "Starting initial single prompt test run...\n",
            "Initial test run completed. Starting main benchmark run...\n",
            "Traffic request rate: inf\n",
            "Burstiness factor: 1.0 (Poisson process)\n",
            "Maximum request concurrency: 1\n",
            "100% 10/10 [02:35<00:00, 15.56s/it]\n",
            "============ Serving Benchmark Result ============\n",
            "Successful requests:                     10        \n",
            "Benchmark duration (s):                  155.55    \n",
            "Total input tokens:                      1374      \n",
            "Total generated tokens:                  2663      \n",
            "Request throughput (req/s):              0.06      \n",
            "Output token throughput (tok/s):         17.12     \n",
            "Total Token throughput (tok/s):          25.95     \n",
            "---------------Time to First Token----------------\n",
            "Mean TTFT (ms):                          85.31     \n",
            "Median TTFT (ms):                        70.39     \n",
            "P99 TTFT (ms):                           137.03    \n",
            "-----Time per Output Token (excl. 1st token)------\n",
            "Mean TPOT (ms):                          58.31     \n",
            "Median TPOT (ms):                        58.32     \n",
            "P99 TPOT (ms):                           58.51     \n",
            "---------------Inter-token Latency----------------\n",
            "Mean ITL (ms):                           58.31     \n",
            "Median ITL (ms):                         58.30     \n",
            "P99 ITL (ms):                            58.74     \n",
            "==================================================\n"
          ]
        }
      ]
    },
    {
      "cell_type": "code",
      "source": [
        "!python3 {benchmark_script} \\\n",
        "  --backend vllm \\\n",
        "  --model {hf_model_id} \\\n",
        "  --endpoint /v1/completions \\\n",
        "  --dataset-name sharegpt \\\n",
        "  --dataset-path /content/ShareGPT_V3_unfiltered_cleaned_split.json \\\n",
        "  --num-prompts 10 \\\n",
        "  --max-concurrency 10 \\\n",
        "  --save-result \\\n",
        "  --append-result \\\n",
        "  --result-filename vllm_bench.json"
      ],
      "metadata": {
        "id": "0vxahTU1p97z",
        "colab": {
          "base_uri": "https://localhost:8080/"
        },
        "outputId": "fbbc71c2-91fd-4f69-893b-d0b44290a7c2"
      },
      "execution_count": null,
      "outputs": [
        {
          "output_type": "stream",
          "name": "stdout",
          "text": [
            "INFO 05-17 21:26:12 [importing.py:53] Triton module has been replaced with a placeholder.\n",
            "INFO 05-17 21:26:13 [__init__.py:239] Automatically detected platform cuda.\n",
            "2025-05-17 21:26:13.660006: E external/local_xla/xla/stream_executor/cuda/cuda_fft.cc:477] Unable to register cuFFT factory: Attempting to register factory for plugin cuFFT when one has already been registered\n",
            "WARNING: All log messages before absl::InitializeLog() is called are written to STDERR\n",
            "E0000 00:00:1747517173.681628   15613 cuda_dnn.cc:8310] Unable to register cuDNN factory: Attempting to register factory for plugin cuDNN when one has already been registered\n",
            "E0000 00:00:1747517173.688211   15613 cuda_blas.cc:1418] Unable to register cuBLAS factory: Attempting to register factory for plugin cuBLAS when one has already been registered\n",
            "Namespace(backend='vllm', base_url=None, host='127.0.0.1', port=8000, endpoint='/v1/completions', dataset_name='sharegpt', dataset_path='/content/ShareGPT_V3_unfiltered_cleaned_split.json', max_concurrency=10, model='Qwen/Qwen2.5-7B-Instruct', tokenizer=None, use_beam_search=False, num_prompts=10, logprobs=None, request_rate=inf, burstiness=1.0, seed=0, trust_remote_code=False, disable_tqdm=False, profile=False, save_result=True, save_detailed=False, append_result=True, metadata=None, result_dir=None, result_filename='vllm_bench.json', ignore_eos=False, percentile_metrics='ttft,tpot,itl', metric_percentiles='99', goodput=None, sonnet_input_len=550, sonnet_output_len=150, sonnet_prefix_len=200, sharegpt_output_len=None, random_input_len=1024, random_output_len=128, random_range_ratio=0.0, random_prefix_len=0, hf_subset=None, hf_split=None, hf_output_len=None, top_p=None, top_k=None, min_p=None, temperature=None, tokenizer_mode='auto', served_model_name=None, lora_modules=None)\n",
            "Starting initial single prompt test run...\n",
            "Initial test run completed. Starting main benchmark run...\n",
            "Traffic request rate: inf\n",
            "Burstiness factor: 1.0 (Poisson process)\n",
            "Maximum request concurrency: 10\n",
            "100% 10/10 [00:46<00:00,  4.63s/it]\n",
            "============ Serving Benchmark Result ============\n",
            "Successful requests:                     10        \n",
            "Benchmark duration (s):                  46.28     \n",
            "Total input tokens:                      1374      \n",
            "Total generated tokens:                  2663      \n",
            "Request throughput (req/s):              0.22      \n",
            "Output token throughput (tok/s):         57.54     \n",
            "Total Token throughput (tok/s):          87.22     \n",
            "---------------Time to First Token----------------\n",
            "Mean TTFT (ms):                          137.12    \n",
            "Median TTFT (ms):                        143.49    \n",
            "P99 TTFT (ms):                           147.99    \n",
            "-----Time per Output Token (excl. 1st token)------\n",
            "Mean TPOT (ms):                          60.52     \n",
            "Median TPOT (ms):                        60.50     \n",
            "P99 TPOT (ms):                           61.18     \n",
            "---------------Inter-token Latency----------------\n",
            "Mean ITL (ms):                           60.19     \n",
            "Median ITL (ms):                         60.15     \n",
            "P99 ITL (ms):                            61.47     \n",
            "==================================================\n"
          ]
        }
      ]
    },
    {
      "cell_type": "code",
      "source": [
        "# !python3 {benchmark_script} \\\n",
        "#   --backend vllm \\\n",
        "#   --model {hf_model_id} \\\n",
        "#   --endpoint /v1/completions \\\n",
        "#   --dataset-name sharegpt \\\n",
        "#   --dataset-path /content/ShareGPT_V3_unfiltered_cleaned_split.json \\\n",
        "#   --num-prompts 50 \\\n",
        "#   --max-concurrency 50 \\\n",
        "#   --save-result \\\n",
        "#   --append-result \\\n",
        "#   --result-filename vllm_bench.json"
      ],
      "metadata": {
        "id": "VtGlfPvlqeQ-"
      },
      "execution_count": null,
      "outputs": []
    },
    {
      "cell_type": "code",
      "source": [
        "!python3 {benchmark_script} \\\n",
        "  --backend vllm \\\n",
        "  --model {hf_model_id} \\\n",
        "  --endpoint /v1/completions \\\n",
        "  --dataset-name sharegpt \\\n",
        "  --dataset-path /content/ShareGPT_V3_unfiltered_cleaned_split.json \\\n",
        "  --num-prompts 100 \\\n",
        "  --max-concurrency 100 \\\n",
        "  --save-result \\\n",
        "  --append-result \\\n",
        "  --result-filename vllm_bench.json"
      ],
      "metadata": {
        "colab": {
          "base_uri": "https://localhost:8080/"
        },
        "id": "rA9236mD-YOW",
        "outputId": "c9482fdc-f457-42c9-a3b3-6aace863c43f"
      },
      "execution_count": null,
      "outputs": [
        {
          "output_type": "stream",
          "name": "stdout",
          "text": [
            "INFO 05-17 21:27:24 [importing.py:53] Triton module has been replaced with a placeholder.\n",
            "INFO 05-17 21:27:24 [__init__.py:239] Automatically detected platform cuda.\n",
            "2025-05-17 21:27:24.945847: E external/local_xla/xla/stream_executor/cuda/cuda_fft.cc:477] Unable to register cuFFT factory: Attempting to register factory for plugin cuFFT when one has already been registered\n",
            "WARNING: All log messages before absl::InitializeLog() is called are written to STDERR\n",
            "E0000 00:00:1747517244.967824   15967 cuda_dnn.cc:8310] Unable to register cuDNN factory: Attempting to register factory for plugin cuDNN when one has already been registered\n",
            "E0000 00:00:1747517244.974429   15967 cuda_blas.cc:1418] Unable to register cuBLAS factory: Attempting to register factory for plugin cuBLAS when one has already been registered\n",
            "Namespace(backend='vllm', base_url=None, host='127.0.0.1', port=8000, endpoint='/v1/completions', dataset_name='sharegpt', dataset_path='/content/ShareGPT_V3_unfiltered_cleaned_split.json', max_concurrency=100, model='Qwen/Qwen2.5-7B-Instruct', tokenizer=None, use_beam_search=False, num_prompts=100, logprobs=None, request_rate=inf, burstiness=1.0, seed=0, trust_remote_code=False, disable_tqdm=False, profile=False, save_result=True, save_detailed=False, append_result=True, metadata=None, result_dir=None, result_filename='vllm_bench.json', ignore_eos=False, percentile_metrics='ttft,tpot,itl', metric_percentiles='99', goodput=None, sonnet_input_len=550, sonnet_output_len=150, sonnet_prefix_len=200, sharegpt_output_len=None, random_input_len=1024, random_output_len=128, random_range_ratio=0.0, random_prefix_len=0, hf_subset=None, hf_split=None, hf_output_len=None, top_p=None, top_k=None, min_p=None, temperature=None, tokenizer_mode='auto', served_model_name=None, lora_modules=None)\n",
            "Starting initial single prompt test run...\n",
            "Initial test run completed. Starting main benchmark run...\n",
            "Traffic request rate: inf\n",
            "Burstiness factor: 1.0 (Poisson process)\n",
            "Maximum request concurrency: 100\n",
            "100% 100/100 [00:57<00:00,  1.74it/s]\n",
            "============ Serving Benchmark Result ============\n",
            "Successful requests:                     100       \n",
            "Benchmark duration (s):                  57.31     \n",
            "Total input tokens:                      23260     \n",
            "Total generated tokens:                  21946     \n",
            "Request throughput (req/s):              1.74      \n",
            "Output token throughput (tok/s):         382.94    \n",
            "Total Token throughput (tok/s):          788.81    \n",
            "---------------Time to First Token----------------\n",
            "Mean TTFT (ms):                          3310.42   \n",
            "Median TTFT (ms):                        3709.76   \n",
            "P99 TTFT (ms):                           5797.07   \n",
            "-----Time per Output Token (excl. 1st token)------\n",
            "Mean TPOT (ms):                          135.06    \n",
            "Median TPOT (ms):                        86.29     \n",
            "P99 TPOT (ms):                           521.23    \n",
            "---------------Inter-token Latency----------------\n",
            "Mean ITL (ms):                           80.25     \n",
            "Median ITL (ms):                         71.95     \n",
            "P99 ITL (ms):                            519.67    \n",
            "==================================================\n"
          ]
        }
      ]
    },
    {
      "cell_type": "code",
      "source": [
        "  !python3 {benchmark_script} \\\n",
        "  --backend vllm \\\n",
        "  --model {hf_model_id} \\\n",
        "  --endpoint /v1/completions \\\n",
        "  --dataset-name sharegpt \\\n",
        "  --dataset-path /content/ShareGPT_V3_unfiltered_cleaned_split.json \\\n",
        "  --num-prompts 300 \\\n",
        "  --max-concurrency 300 \\\n",
        "  --save-result \\\n",
        "  --append-result \\\n",
        "  --result-filename vllm_bench.json"
      ],
      "metadata": {
        "colab": {
          "base_uri": "https://localhost:8080/"
        },
        "id": "exAwCcUm-nFG",
        "outputId": "2b097583-eacc-4957-8b7d-72832a2b4dcd"
      },
      "execution_count": null,
      "outputs": [
        {
          "output_type": "stream",
          "name": "stdout",
          "text": [
            "INFO 05-17 21:28:46 [importing.py:53] Triton module has been replaced with a placeholder.\n",
            "INFO 05-17 21:28:47 [__init__.py:239] Automatically detected platform cuda.\n",
            "2025-05-17 21:28:47.573535: E external/local_xla/xla/stream_executor/cuda/cuda_fft.cc:477] Unable to register cuFFT factory: Attempting to register factory for plugin cuFFT when one has already been registered\n",
            "WARNING: All log messages before absl::InitializeLog() is called are written to STDERR\n",
            "E0000 00:00:1747517327.594827   16369 cuda_dnn.cc:8310] Unable to register cuDNN factory: Attempting to register factory for plugin cuDNN when one has already been registered\n",
            "E0000 00:00:1747517327.601308   16369 cuda_blas.cc:1418] Unable to register cuBLAS factory: Attempting to register factory for plugin cuBLAS when one has already been registered\n",
            "Namespace(backend='vllm', base_url=None, host='127.0.0.1', port=8000, endpoint='/v1/completions', dataset_name='sharegpt', dataset_path='/content/ShareGPT_V3_unfiltered_cleaned_split.json', max_concurrency=300, model='Qwen/Qwen2.5-7B-Instruct', tokenizer=None, use_beam_search=False, num_prompts=300, logprobs=None, request_rate=inf, burstiness=1.0, seed=0, trust_remote_code=False, disable_tqdm=False, profile=False, save_result=True, save_detailed=False, append_result=True, metadata=None, result_dir=None, result_filename='vllm_bench.json', ignore_eos=False, percentile_metrics='ttft,tpot,itl', metric_percentiles='99', goodput=None, sonnet_input_len=550, sonnet_output_len=150, sonnet_prefix_len=200, sharegpt_output_len=None, random_input_len=1024, random_output_len=128, random_range_ratio=0.0, random_prefix_len=0, hf_subset=None, hf_split=None, hf_output_len=None, top_p=None, top_k=None, min_p=None, temperature=None, tokenizer_mode='auto', served_model_name=None, lora_modules=None)\n",
            "Starting initial single prompt test run...\n",
            "Initial test run completed. Starting main benchmark run...\n",
            "Traffic request rate: inf\n",
            "Burstiness factor: 1.0 (Poisson process)\n",
            "Maximum request concurrency: 300\n",
            "100% 300/300 [01:17<00:00,  3.88it/s]\n",
            "============ Serving Benchmark Result ============\n",
            "Successful requests:                     300       \n",
            "Benchmark duration (s):                  77.38     \n",
            "Total input tokens:                      63426     \n",
            "Total generated tokens:                  64878     \n",
            "Request throughput (req/s):              3.88      \n",
            "Output token throughput (tok/s):         838.42    \n",
            "Total Token throughput (tok/s):          1658.09   \n",
            "---------------Time to First Token----------------\n",
            "Mean TTFT (ms):                          7282.20   \n",
            "Median TTFT (ms):                        6753.07   \n",
            "P99 TTFT (ms):                           15809.34  \n",
            "-----Time per Output Token (excl. 1st token)------\n",
            "Mean TPOT (ms):                          227.74    \n",
            "Median TPOT (ms):                        138.33    \n",
            "P99 TPOT (ms):                           561.51    \n",
            "---------------Inter-token Latency----------------\n",
            "Mean ITL (ms):                           122.61    \n",
            "Median ITL (ms):                         99.04     \n",
            "P99 ITL (ms):                            562.42    \n",
            "==================================================\n"
          ]
        }
      ]
    },
    {
      "cell_type": "code",
      "source": [
        "!pkill -f \"vllm serve\" && sleep 10"
      ],
      "metadata": {
        "id": "2TfwRdLct8iD",
        "colab": {
          "base_uri": "https://localhost:8080/"
        },
        "outputId": "a9eae721-f806-49b7-eced-91e2eafb3794"
      },
      "execution_count": null,
      "outputs": [
        {
          "output_type": "stream",
          "name": "stdout",
          "text": [
            "^C\n"
          ]
        }
      ]
    },
    {
      "cell_type": "code",
      "source": [
        "!ps aux | grep \"vllm serve\" | grep -v grep"
      ],
      "metadata": {
        "id": "Q6srmd3juHoG",
        "colab": {
          "base_uri": "https://localhost:8080/"
        },
        "outputId": "4cb769ce-2291-4de3-ab5d-b635a67b076c"
      },
      "execution_count": null,
      "outputs": [
        {
          "output_type": "stream",
          "name": "stdout",
          "text": [
            "root       13957  4.7  2.7 13040164 1499736 ?    Sl   21:20   0:27 /usr/bin/python3 /usr/local/bin/vllm serve Qwen/Qwen2.5-7B-Instruct --disable-log-requests\n"
          ]
        }
      ]
    },
    {
      "cell_type": "code",
      "source": [
        "hf_model_id = \"Qwen/Qwen2.5-7B-Instruct-GPTQ-Int4\" # you can try AWQ W4A16 as well"
      ],
      "metadata": {
        "id": "y_crxxO1Koos"
      },
      "execution_count": null,
      "outputs": []
    },
    {
      "cell_type": "code",
      "source": [
        "!nohup vllm serve {hf_model_id} \\\n",
        "       --disable-log-requests \\\n",
        "       > vllm.log 2>&1 &"
      ],
      "metadata": {
        "id": "YU8nt9iXuHiO"
      },
      "execution_count": null,
      "outputs": []
    },
    {
      "cell_type": "code",
      "source": [
        "check_vllm_status()"
      ],
      "metadata": {
        "colab": {
          "base_uri": "https://localhost:8080/"
        },
        "id": "TgpXn8vrHgrX",
        "outputId": "0700975f-3d50-4e26-c118-7843d450622c"
      },
      "execution_count": null,
      "outputs": [
        {
          "output_type": "stream",
          "name": "stdout",
          "text": [
            "⏳ Waiting for vLLM server to become healthy...\n",
            "Attempt 1: Not ready yet...\n",
            "Attempt 2: Not ready yet...\n",
            "Attempt 3: Not ready yet...\n",
            "Attempt 4: Not ready yet...\n",
            "Attempt 5: Not ready yet...\n",
            "Attempt 6: Not ready yet...\n",
            "Attempt 7: Not ready yet...\n",
            "Attempt 8: Not ready yet...\n",
            "Attempt 9: Not ready yet...\n",
            "Attempt 10: Not ready yet...\n",
            "Attempt 11: Not ready yet...\n",
            "Attempt 12: Not ready yet...\n",
            "Attempt 13: Not ready yet...\n",
            "✅ vLLM server is healthy and ready!\n"
          ]
        }
      ]
    },
    {
      "cell_type": "code",
      "source": [
        "!python3 {benchmark_script} \\\n",
        "  --backend vllm \\\n",
        "  --model {hf_model_id} \\\n",
        "  --endpoint /v1/completions \\\n",
        "  --dataset-name sharegpt \\\n",
        "  --dataset-path /content/ShareGPT_V3_unfiltered_cleaned_split.json \\\n",
        "  --num-prompts 10 \\\n",
        "  --max-concurrency 1 \\\n",
        "  --save-result \\\n",
        "  --append-result \\\n",
        "  --result-filename vllm_bench.json\n",
        "\n",
        "!python3 {benchmark_script} \\\n",
        "--backend vllm \\\n",
        "--model {hf_model_id} \\\n",
        "--endpoint /v1/completions \\\n",
        "--dataset-name sharegpt \\\n",
        "--dataset-path /content/ShareGPT_V3_unfiltered_cleaned_split.json \\\n",
        "--num-prompts 10 \\\n",
        "--max-concurrency 10 \\\n",
        "--save-result \\\n",
        "--append-result \\\n",
        "--result-filename vllm_bench.json\n",
        "\n",
        "# !python3 {benchmark_script} \\\n",
        "# --backend vllm \\\n",
        "# --model {hf_model_id} \\\n",
        "# --endpoint /v1/completions \\\n",
        "# --dataset-name sharegpt \\\n",
        "# --dataset-path /content/ShareGPT_V3_unfiltered_cleaned_split.json \\\n",
        "# --num-prompts 50 \\\n",
        "# --max-concurrency 50 \\\n",
        "# --save-result \\\n",
        "# --append-result \\\n",
        "# --result-filename vllm_bench.json\n",
        "\n",
        "!python3 {benchmark_script} \\\n",
        "  --backend vllm \\\n",
        "  --model {hf_model_id} \\\n",
        "  --endpoint /v1/completions \\\n",
        "  --dataset-name sharegpt \\\n",
        "  --dataset-path /content/ShareGPT_V3_unfiltered_cleaned_split.json \\\n",
        "  --num-prompts 100 \\\n",
        "  --max-concurrency 100 \\\n",
        "  --save-result \\\n",
        "  --append-result \\\n",
        "  --result-filename vllm_bench.json\n",
        "\n",
        "\n",
        "!python3 {benchmark_script} \\\n",
        "--backend vllm \\\n",
        "--model {hf_model_id} \\\n",
        "--endpoint /v1/completions \\\n",
        "--dataset-name sharegpt \\\n",
        "--dataset-path /content/ShareGPT_V3_unfiltered_cleaned_split.json \\\n",
        "--num-prompts 300 \\\n",
        "--max-concurrency 300 \\\n",
        "--save-result \\\n",
        "--append-result \\\n",
        "--result-filename vllm_bench.json"
      ],
      "metadata": {
        "id": "wvypFZ887yCv",
        "colab": {
          "base_uri": "https://localhost:8080/"
        },
        "outputId": "47b4d0a8-5c69-4e2c-8d41-a2be7374efcc"
      },
      "execution_count": null,
      "outputs": [
        {
          "output_type": "stream",
          "name": "stdout",
          "text": [
            "INFO 05-17 21:34:06 [importing.py:53] Triton module has been replaced with a placeholder.\n",
            "INFO 05-17 21:34:06 [__init__.py:239] Automatically detected platform cuda.\n",
            "2025-05-17 21:34:07.114615: E external/local_xla/xla/stream_executor/cuda/cuda_fft.cc:477] Unable to register cuFFT factory: Attempting to register factory for plugin cuFFT when one has already been registered\n",
            "WARNING: All log messages before absl::InitializeLog() is called are written to STDERR\n",
            "E0000 00:00:1747517647.138287   17942 cuda_dnn.cc:8310] Unable to register cuDNN factory: Attempting to register factory for plugin cuDNN when one has already been registered\n",
            "E0000 00:00:1747517647.145064   17942 cuda_blas.cc:1418] Unable to register cuBLAS factory: Attempting to register factory for plugin cuBLAS when one has already been registered\n",
            "Namespace(backend='vllm', base_url=None, host='127.0.0.1', port=8000, endpoint='/v1/completions', dataset_name='sharegpt', dataset_path='/content/ShareGPT_V3_unfiltered_cleaned_split.json', max_concurrency=1, model='Qwen/Qwen2.5-7B-Instruct-GPTQ-Int4', tokenizer=None, use_beam_search=False, num_prompts=10, logprobs=None, request_rate=inf, burstiness=1.0, seed=0, trust_remote_code=False, disable_tqdm=False, profile=False, save_result=True, save_detailed=False, append_result=True, metadata=None, result_dir=None, result_filename='vllm_bench.json', ignore_eos=False, percentile_metrics='ttft,tpot,itl', metric_percentiles='99', goodput=None, sonnet_input_len=550, sonnet_output_len=150, sonnet_prefix_len=200, sharegpt_output_len=None, random_input_len=1024, random_output_len=128, random_range_ratio=0.0, random_prefix_len=0, hf_subset=None, hf_split=None, hf_output_len=None, top_p=None, top_k=None, min_p=None, temperature=None, tokenizer_mode='auto', served_model_name=None, lora_modules=None)\n",
            "Starting initial single prompt test run...\n",
            "Initial test run completed. Starting main benchmark run...\n",
            "Traffic request rate: inf\n",
            "Burstiness factor: 1.0 (Poisson process)\n",
            "Maximum request concurrency: 1\n",
            "100% 10/10 [00:55<00:00,  5.54s/it]\n",
            "============ Serving Benchmark Result ============\n",
            "Successful requests:                     10        \n",
            "Benchmark duration (s):                  55.42     \n",
            "Total input tokens:                      1374      \n",
            "Total generated tokens:                  2663      \n",
            "Request throughput (req/s):              0.18      \n",
            "Output token throughput (tok/s):         48.05     \n",
            "Total Token throughput (tok/s):          72.84     \n",
            "---------------Time to First Token----------------\n",
            "Mean TTFT (ms):                          58.39     \n",
            "Median TTFT (ms):                        27.56     \n",
            "P99 TTFT (ms):                           127.87    \n",
            "-----Time per Output Token (excl. 1st token)------\n",
            "Mean TPOT (ms):                          20.74     \n",
            "Median TPOT (ms):                        20.69     \n",
            "P99 TPOT (ms):                           21.23     \n",
            "---------------Inter-token Latency----------------\n",
            "Mean ITL (ms):                           20.67     \n",
            "Median ITL (ms):                         20.66     \n",
            "P99 ITL (ms):                            21.25     \n",
            "==================================================\n",
            "INFO 05-17 21:35:22 [importing.py:53] Triton module has been replaced with a placeholder.\n",
            "INFO 05-17 21:35:22 [__init__.py:239] Automatically detected platform cuda.\n",
            "2025-05-17 21:35:22.993822: E external/local_xla/xla/stream_executor/cuda/cuda_fft.cc:477] Unable to register cuFFT factory: Attempting to register factory for plugin cuFFT when one has already been registered\n",
            "WARNING: All log messages before absl::InitializeLog() is called are written to STDERR\n",
            "E0000 00:00:1747517723.015165   18329 cuda_dnn.cc:8310] Unable to register cuDNN factory: Attempting to register factory for plugin cuDNN when one has already been registered\n",
            "E0000 00:00:1747517723.021704   18329 cuda_blas.cc:1418] Unable to register cuBLAS factory: Attempting to register factory for plugin cuBLAS when one has already been registered\n",
            "Namespace(backend='vllm', base_url=None, host='127.0.0.1', port=8000, endpoint='/v1/completions', dataset_name='sharegpt', dataset_path='/content/ShareGPT_V3_unfiltered_cleaned_split.json', max_concurrency=10, model='Qwen/Qwen2.5-7B-Instruct-GPTQ-Int4', tokenizer=None, use_beam_search=False, num_prompts=10, logprobs=None, request_rate=inf, burstiness=1.0, seed=0, trust_remote_code=False, disable_tqdm=False, profile=False, save_result=True, save_detailed=False, append_result=True, metadata=None, result_dir=None, result_filename='vllm_bench.json', ignore_eos=False, percentile_metrics='ttft,tpot,itl', metric_percentiles='99', goodput=None, sonnet_input_len=550, sonnet_output_len=150, sonnet_prefix_len=200, sharegpt_output_len=None, random_input_len=1024, random_output_len=128, random_range_ratio=0.0, random_prefix_len=0, hf_subset=None, hf_split=None, hf_output_len=None, top_p=None, top_k=None, min_p=None, temperature=None, tokenizer_mode='auto', served_model_name=None, lora_modules=None)\n",
            "Starting initial single prompt test run...\n",
            "Initial test run completed. Starting main benchmark run...\n",
            "Traffic request rate: inf\n",
            "Burstiness factor: 1.0 (Poisson process)\n",
            "Maximum request concurrency: 10\n",
            "100% 10/10 [00:16<00:00,  1.64s/it]\n",
            "============ Serving Benchmark Result ============\n",
            "Successful requests:                     10        \n",
            "Benchmark duration (s):                  16.38     \n",
            "Total input tokens:                      1374      \n",
            "Total generated tokens:                  2663      \n",
            "Request throughput (req/s):              0.61      \n",
            "Output token throughput (tok/s):         162.62    \n",
            "Total Token throughput (tok/s):          246.53    \n",
            "---------------Time to First Token----------------\n",
            "Mean TTFT (ms):                          69.53     \n",
            "Median TTFT (ms):                        72.32     \n",
            "P99 TTFT (ms):                           76.98     \n",
            "-----Time per Output Token (excl. 1st token)------\n",
            "Mean TPOT (ms):                          21.53     \n",
            "Median TPOT (ms):                        21.51     \n",
            "P99 TPOT (ms):                           22.05     \n",
            "---------------Inter-token Latency----------------\n",
            "Mean ITL (ms):                           21.32     \n",
            "Median ITL (ms):                         21.27     \n",
            "P99 ITL (ms):                            22.33     \n",
            "==================================================\n",
            "INFO 05-17 21:35:59 [importing.py:53] Triton module has been replaced with a placeholder.\n",
            "INFO 05-17 21:35:59 [__init__.py:239] Automatically detected platform cuda.\n",
            "2025-05-17 21:35:59.769787: E external/local_xla/xla/stream_executor/cuda/cuda_fft.cc:477] Unable to register cuFFT factory: Attempting to register factory for plugin cuFFT when one has already been registered\n",
            "WARNING: All log messages before absl::InitializeLog() is called are written to STDERR\n",
            "E0000 00:00:1747517759.791395   18545 cuda_dnn.cc:8310] Unable to register cuDNN factory: Attempting to register factory for plugin cuDNN when one has already been registered\n",
            "E0000 00:00:1747517759.798015   18545 cuda_blas.cc:1418] Unable to register cuBLAS factory: Attempting to register factory for plugin cuBLAS when one has already been registered\n",
            "Namespace(backend='vllm', base_url=None, host='127.0.0.1', port=8000, endpoint='/v1/completions', dataset_name='sharegpt', dataset_path='/content/ShareGPT_V3_unfiltered_cleaned_split.json', max_concurrency=100, model='Qwen/Qwen2.5-7B-Instruct-GPTQ-Int4', tokenizer=None, use_beam_search=False, num_prompts=100, logprobs=None, request_rate=inf, burstiness=1.0, seed=0, trust_remote_code=False, disable_tqdm=False, profile=False, save_result=True, save_detailed=False, append_result=True, metadata=None, result_dir=None, result_filename='vllm_bench.json', ignore_eos=False, percentile_metrics='ttft,tpot,itl', metric_percentiles='99', goodput=None, sonnet_input_len=550, sonnet_output_len=150, sonnet_prefix_len=200, sharegpt_output_len=None, random_input_len=1024, random_output_len=128, random_range_ratio=0.0, random_prefix_len=0, hf_subset=None, hf_split=None, hf_output_len=None, top_p=None, top_k=None, min_p=None, temperature=None, tokenizer_mode='auto', served_model_name=None, lora_modules=None)\n",
            "Starting initial single prompt test run...\n",
            "Initial test run completed. Starting main benchmark run...\n",
            "Traffic request rate: inf\n",
            "Burstiness factor: 1.0 (Poisson process)\n",
            "Maximum request concurrency: 100\n",
            "100% 100/100 [00:28<00:00,  3.52it/s]\n",
            "============ Serving Benchmark Result ============\n",
            "Successful requests:                     100       \n",
            "Benchmark duration (s):                  28.43     \n",
            "Total input tokens:                      23260     \n",
            "Total generated tokens:                  21657     \n",
            "Request throughput (req/s):              3.52      \n",
            "Output token throughput (tok/s):         761.69    \n",
            "Total Token throughput (tok/s):          1579.76   \n",
            "---------------Time to First Token----------------\n",
            "Mean TTFT (ms):                          4241.13   \n",
            "Median TTFT (ms):                        4743.88   \n",
            "P99 TTFT (ms):                           7409.23   \n",
            "-----Time per Output Token (excl. 1st token)------\n",
            "Mean TPOT (ms):                          125.33    \n",
            "Median TPOT (ms):                        54.19     \n",
            "P99 TPOT (ms):                           668.72    \n",
            "---------------Inter-token Latency----------------\n",
            "Mean ITL (ms):                           45.40     \n",
            "Median ITL (ms):                         30.03     \n",
            "P99 ITL (ms):                            666.52    \n",
            "==================================================\n",
            "INFO 05-17 21:36:48 [importing.py:53] Triton module has been replaced with a placeholder.\n",
            "INFO 05-17 21:36:48 [__init__.py:239] Automatically detected platform cuda.\n",
            "2025-05-17 21:36:48.742400: E external/local_xla/xla/stream_executor/cuda/cuda_fft.cc:477] Unable to register cuFFT factory: Attempting to register factory for plugin cuFFT when one has already been registered\n",
            "WARNING: All log messages before absl::InitializeLog() is called are written to STDERR\n",
            "E0000 00:00:1747517808.764298   18809 cuda_dnn.cc:8310] Unable to register cuDNN factory: Attempting to register factory for plugin cuDNN when one has already been registered\n",
            "E0000 00:00:1747517808.770846   18809 cuda_blas.cc:1418] Unable to register cuBLAS factory: Attempting to register factory for plugin cuBLAS when one has already been registered\n",
            "Namespace(backend='vllm', base_url=None, host='127.0.0.1', port=8000, endpoint='/v1/completions', dataset_name='sharegpt', dataset_path='/content/ShareGPT_V3_unfiltered_cleaned_split.json', max_concurrency=300, model='Qwen/Qwen2.5-7B-Instruct-GPTQ-Int4', tokenizer=None, use_beam_search=False, num_prompts=300, logprobs=None, request_rate=inf, burstiness=1.0, seed=0, trust_remote_code=False, disable_tqdm=False, profile=False, save_result=True, save_detailed=False, append_result=True, metadata=None, result_dir=None, result_filename='vllm_bench.json', ignore_eos=False, percentile_metrics='ttft,tpot,itl', metric_percentiles='99', goodput=None, sonnet_input_len=550, sonnet_output_len=150, sonnet_prefix_len=200, sharegpt_output_len=None, random_input_len=1024, random_output_len=128, random_range_ratio=0.0, random_prefix_len=0, hf_subset=None, hf_split=None, hf_output_len=None, top_p=None, top_k=None, min_p=None, temperature=None, tokenizer_mode='auto', served_model_name=None, lora_modules=None)\n",
            "Starting initial single prompt test run...\n",
            "Initial test run completed. Starting main benchmark run...\n",
            "Traffic request rate: inf\n",
            "Burstiness factor: 1.0 (Poisson process)\n",
            "Maximum request concurrency: 300\n",
            "100% 300/300 [00:51<00:00,  5.86it/s]\n",
            "============ Serving Benchmark Result ============\n",
            "Successful requests:                     300       \n",
            "Benchmark duration (s):                  51.23     \n",
            "Total input tokens:                      63426     \n",
            "Total generated tokens:                  64766     \n",
            "Request throughput (req/s):              5.86      \n",
            "Output token throughput (tok/s):         1264.22   \n",
            "Total Token throughput (tok/s):          2502.28   \n",
            "---------------Time to First Token----------------\n",
            "Mean TTFT (ms):                          9384.66   \n",
            "Median TTFT (ms):                        10410.94  \n",
            "P99 TTFT (ms):                           15727.56  \n",
            "-----Time per Output Token (excl. 1st token)------\n",
            "Mean TPOT (ms):                          183.18    \n",
            "Median TPOT (ms):                        101.65    \n",
            "P99 TPOT (ms):                           684.02    \n",
            "---------------Inter-token Latency----------------\n",
            "Mean ITL (ms):                           88.94     \n",
            "Median ITL (ms):                         71.01     \n",
            "P99 ITL (ms):                            689.64    \n",
            "==================================================\n"
          ]
        }
      ]
    },
    {
      "cell_type": "code",
      "source": [
        "!pkill -f \"vllm serve\" && sleep 10"
      ],
      "metadata": {
        "id": "FQ_sa46VXBiB",
        "colab": {
          "base_uri": "https://localhost:8080/"
        },
        "outputId": "1d6f0b86-d021-4811-b8a9-f90a0bc75499"
      },
      "execution_count": null,
      "outputs": [
        {
          "output_type": "stream",
          "name": "stdout",
          "text": [
            "^C\n"
          ]
        }
      ]
    },
    {
      "cell_type": "code",
      "source": [
        "!ps aux | grep \"vllm serve\" | grep -v grep"
      ],
      "metadata": {
        "id": "G8JVH3chXBa3",
        "colab": {
          "base_uri": "https://localhost:8080/"
        },
        "outputId": "1054faaa-05ca-4403-e2b2-8b7e4952b271"
      },
      "execution_count": null,
      "outputs": [
        {
          "output_type": "stream",
          "name": "stdout",
          "text": [
            "root       16858  5.9  2.6 13043392 1492388 ?    Sl   21:30   0:26 /usr/bin/python3 /usr/local/bin/vllm serve Qwen/Qwen2.5-7B-Instruct-GPTQ-Int4 --disable-log-requests\n"
          ]
        }
      ]
    },
    {
      "cell_type": "code",
      "source": [
        "hf_model_id = \"RedHatAI/Qwen2.5-7B-Instruct-FP8-dynamic\""
      ],
      "metadata": {
        "id": "amv6kYzSMuqP"
      },
      "execution_count": null,
      "outputs": []
    },
    {
      "cell_type": "code",
      "source": [
        "!nohup vllm serve {hf_model_id} \\\n",
        "       --disable-log-requests \\\n",
        "       > vllm.log 2>&1 &"
      ],
      "metadata": {
        "id": "5wCOdL0tW4Yb"
      },
      "execution_count": null,
      "outputs": []
    },
    {
      "cell_type": "code",
      "source": [
        "check_vllm_status()"
      ],
      "metadata": {
        "id": "HaUn9xkIW4_d",
        "colab": {
          "base_uri": "https://localhost:8080/"
        },
        "outputId": "2717e0e8-db96-4a46-d77e-704318ac0562"
      },
      "execution_count": null,
      "outputs": [
        {
          "output_type": "stream",
          "name": "stdout",
          "text": [
            "⏳ Waiting for vLLM server to become healthy...\n",
            "Attempt 1: Not ready yet...\n",
            "Attempt 2: Not ready yet...\n",
            "Attempt 3: Not ready yet...\n",
            "Attempt 4: Not ready yet...\n",
            "Attempt 5: Not ready yet...\n",
            "Attempt 6: Not ready yet...\n",
            "Attempt 7: Not ready yet...\n",
            "Attempt 8: Not ready yet...\n",
            "Attempt 9: Not ready yet...\n",
            "Attempt 10: Not ready yet...\n",
            "Attempt 11: Not ready yet...\n",
            "Attempt 12: Not ready yet...\n",
            "Attempt 13: Not ready yet...\n",
            "Attempt 14: Not ready yet...\n",
            "✅ vLLM server is healthy and ready!\n"
          ]
        }
      ]
    },
    {
      "cell_type": "code",
      "source": [
        "!python3 {benchmark_script} \\\n",
        "  --backend vllm \\\n",
        "  --model {hf_model_id} \\\n",
        "  --endpoint /v1/completions \\\n",
        "  --dataset-name sharegpt \\\n",
        "  --dataset-path /content/ShareGPT_V3_unfiltered_cleaned_split.json \\\n",
        "  --num-prompts 10 \\\n",
        "  --max-concurrency 1 \\\n",
        "  --save-result \\\n",
        "  --append-result \\\n",
        "  --result-filename vllm_bench.json\n",
        "\n",
        "!python3 {benchmark_script} \\\n",
        "--backend vllm \\\n",
        "--model {hf_model_id} \\\n",
        "--endpoint /v1/completions \\\n",
        "--dataset-name sharegpt \\\n",
        "--dataset-path /content/ShareGPT_V3_unfiltered_cleaned_split.json \\\n",
        "--num-prompts 10 \\\n",
        "--max-concurrency 10 \\\n",
        "--save-result \\\n",
        "--append-result \\\n",
        "--result-filename vllm_bench.json\n",
        "\n",
        "# !python3 {benchmark_script} \\\n",
        "# --backend vllm \\\n",
        "# --model {hf_model_id} \\\n",
        "# --endpoint /v1/completions \\\n",
        "# --dataset-name sharegpt \\\n",
        "# --dataset-path /content/ShareGPT_V3_unfiltered_cleaned_split.json \\\n",
        "# --num-prompts 50 \\\n",
        "# --max-concurrency 50 \\\n",
        "# --save-result \\\n",
        "# --append-result \\\n",
        "# --result-filename vllm_bench.json\n",
        "\n",
        "!python3 {benchmark_script} \\\n",
        "  --backend vllm \\\n",
        "  --model {hf_model_id} \\\n",
        "  --endpoint /v1/completions \\\n",
        "  --dataset-name sharegpt \\\n",
        "  --dataset-path /content/ShareGPT_V3_unfiltered_cleaned_split.json \\\n",
        "  --num-prompts 100 \\\n",
        "  --max-concurrency 100 \\\n",
        "  --save-result \\\n",
        "  --append-result \\\n",
        "  --result-filename vllm_bench.json\n",
        "\n",
        "!python3 {benchmark_script} \\\n",
        "--backend vllm \\\n",
        "--model {hf_model_id} \\\n",
        "--endpoint /v1/completions \\\n",
        "--dataset-name sharegpt \\\n",
        "--dataset-path /content/ShareGPT_V3_unfiltered_cleaned_split.json \\\n",
        "--num-prompts 300 \\\n",
        "--max-concurrency 300 \\\n",
        "--save-result \\\n",
        "--append-result \\\n",
        "--result-filename vllm_bench.json"
      ],
      "metadata": {
        "id": "TYMgvqomW9Z2",
        "colab": {
          "base_uri": "https://localhost:8080/"
        },
        "outputId": "c790fcb1-5064-4c2d-a0f1-80d193899986"
      },
      "execution_count": null,
      "outputs": [
        {
          "output_type": "stream",
          "name": "stdout",
          "text": [
            "INFO 05-17 21:40:23 [importing.py:53] Triton module has been replaced with a placeholder.\n",
            "INFO 05-17 21:40:23 [__init__.py:239] Automatically detected platform cuda.\n",
            "2025-05-17 21:40:23.984921: E external/local_xla/xla/stream_executor/cuda/cuda_fft.cc:477] Unable to register cuFFT factory: Attempting to register factory for plugin cuFFT when one has already been registered\n",
            "WARNING: All log messages before absl::InitializeLog() is called are written to STDERR\n",
            "E0000 00:00:1747518024.006858   19960 cuda_dnn.cc:8310] Unable to register cuDNN factory: Attempting to register factory for plugin cuDNN when one has already been registered\n",
            "E0000 00:00:1747518024.013458   19960 cuda_blas.cc:1418] Unable to register cuBLAS factory: Attempting to register factory for plugin cuBLAS when one has already been registered\n",
            "Namespace(backend='vllm', base_url=None, host='127.0.0.1', port=8000, endpoint='/v1/completions', dataset_name='sharegpt', dataset_path='/content/ShareGPT_V3_unfiltered_cleaned_split.json', max_concurrency=1, model='RedHatAI/Qwen2.5-7B-Instruct-FP8-dynamic', tokenizer=None, use_beam_search=False, num_prompts=10, logprobs=None, request_rate=inf, burstiness=1.0, seed=0, trust_remote_code=False, disable_tqdm=False, profile=False, save_result=True, save_detailed=False, append_result=True, metadata=None, result_dir=None, result_filename='vllm_bench.json', ignore_eos=False, percentile_metrics='ttft,tpot,itl', metric_percentiles='99', goodput=None, sonnet_input_len=550, sonnet_output_len=150, sonnet_prefix_len=200, sharegpt_output_len=None, random_input_len=1024, random_output_len=128, random_range_ratio=0.0, random_prefix_len=0, hf_subset=None, hf_split=None, hf_output_len=None, top_p=None, top_k=None, min_p=None, temperature=None, tokenizer_mode='auto', served_model_name=None, lora_modules=None)\n",
            "Starting initial single prompt test run...\n",
            "Initial test run completed. Starting main benchmark run...\n",
            "Traffic request rate: inf\n",
            "Burstiness factor: 1.0 (Poisson process)\n",
            "Maximum request concurrency: 1\n",
            "100% 10/10 [01:33<00:00,  9.38s/it]\n",
            "============ Serving Benchmark Result ============\n",
            "Successful requests:                     10        \n",
            "Benchmark duration (s):                  93.82     \n",
            "Total input tokens:                      1374      \n",
            "Total generated tokens:                  2663      \n",
            "Request throughput (req/s):              0.11      \n",
            "Output token throughput (tok/s):         28.38     \n",
            "Total Token throughput (tok/s):          43.03     \n",
            "---------------Time to First Token----------------\n",
            "Mean TTFT (ms):                          54.78     \n",
            "Median TTFT (ms):                        41.98     \n",
            "P99 TTFT (ms):                           93.68     \n",
            "-----Time per Output Token (excl. 1st token)------\n",
            "Mean TPOT (ms):                          35.21     \n",
            "Median TPOT (ms):                        35.18     \n",
            "P99 TPOT (ms):                           35.55     \n",
            "---------------Inter-token Latency----------------\n",
            "Mean ITL (ms):                           35.16     \n",
            "Median ITL (ms):                         35.15     \n",
            "P99 ITL (ms):                            35.65     \n",
            "==================================================\n",
            "INFO 05-17 21:42:19 [importing.py:53] Triton module has been replaced with a placeholder.\n",
            "INFO 05-17 21:42:19 [__init__.py:239] Automatically detected platform cuda.\n",
            "2025-05-17 21:42:20.343955: E external/local_xla/xla/stream_executor/cuda/cuda_fft.cc:477] Unable to register cuFFT factory: Attempting to register factory for plugin cuFFT when one has already been registered\n",
            "WARNING: All log messages before absl::InitializeLog() is called are written to STDERR\n",
            "E0000 00:00:1747518140.365803   20523 cuda_dnn.cc:8310] Unable to register cuDNN factory: Attempting to register factory for plugin cuDNN when one has already been registered\n",
            "E0000 00:00:1747518140.372567   20523 cuda_blas.cc:1418] Unable to register cuBLAS factory: Attempting to register factory for plugin cuBLAS when one has already been registered\n",
            "Namespace(backend='vllm', base_url=None, host='127.0.0.1', port=8000, endpoint='/v1/completions', dataset_name='sharegpt', dataset_path='/content/ShareGPT_V3_unfiltered_cleaned_split.json', max_concurrency=10, model='RedHatAI/Qwen2.5-7B-Instruct-FP8-dynamic', tokenizer=None, use_beam_search=False, num_prompts=10, logprobs=None, request_rate=inf, burstiness=1.0, seed=0, trust_remote_code=False, disable_tqdm=False, profile=False, save_result=True, save_detailed=False, append_result=True, metadata=None, result_dir=None, result_filename='vllm_bench.json', ignore_eos=False, percentile_metrics='ttft,tpot,itl', metric_percentiles='99', goodput=None, sonnet_input_len=550, sonnet_output_len=150, sonnet_prefix_len=200, sharegpt_output_len=None, random_input_len=1024, random_output_len=128, random_range_ratio=0.0, random_prefix_len=0, hf_subset=None, hf_split=None, hf_output_len=None, top_p=None, top_k=None, min_p=None, temperature=None, tokenizer_mode='auto', served_model_name=None, lora_modules=None)\n",
            "Starting initial single prompt test run...\n",
            "Initial test run completed. Starting main benchmark run...\n",
            "Traffic request rate: inf\n",
            "Burstiness factor: 1.0 (Poisson process)\n",
            "Maximum request concurrency: 10\n",
            "100% 10/10 [00:27<00:00,  2.77s/it]\n",
            "============ Serving Benchmark Result ============\n",
            "Successful requests:                     10        \n",
            "Benchmark duration (s):                  27.68     \n",
            "Total input tokens:                      1374      \n",
            "Total generated tokens:                  2663      \n",
            "Request throughput (req/s):              0.36      \n",
            "Output token throughput (tok/s):         96.20     \n",
            "Total Token throughput (tok/s):          145.83    \n",
            "---------------Time to First Token----------------\n",
            "Mean TTFT (ms):                          87.23     \n",
            "Median TTFT (ms):                        90.39     \n",
            "P99 TTFT (ms):                           95.44     \n",
            "-----Time per Output Token (excl. 1st token)------\n",
            "Mean TPOT (ms):                          36.40     \n",
            "Median TPOT (ms):                        36.41     \n",
            "P99 TPOT (ms):                           36.97     \n",
            "---------------Inter-token Latency----------------\n",
            "Mean ITL (ms):                           36.09     \n",
            "Median ITL (ms):                         36.04     \n",
            "P99 ITL (ms):                            37.27     \n",
            "==================================================\n",
            "INFO 05-17 21:43:09 [importing.py:53] Triton module has been replaced with a placeholder.\n",
            "INFO 05-17 21:43:09 [__init__.py:239] Automatically detected platform cuda.\n",
            "2025-05-17 21:43:10.419266: E external/local_xla/xla/stream_executor/cuda/cuda_fft.cc:477] Unable to register cuFFT factory: Attempting to register factory for plugin cuFFT when one has already been registered\n",
            "WARNING: All log messages before absl::InitializeLog() is called are written to STDERR\n",
            "E0000 00:00:1747518190.440980   20791 cuda_dnn.cc:8310] Unable to register cuDNN factory: Attempting to register factory for plugin cuDNN when one has already been registered\n",
            "E0000 00:00:1747518190.447527   20791 cuda_blas.cc:1418] Unable to register cuBLAS factory: Attempting to register factory for plugin cuBLAS when one has already been registered\n",
            "Namespace(backend='vllm', base_url=None, host='127.0.0.1', port=8000, endpoint='/v1/completions', dataset_name='sharegpt', dataset_path='/content/ShareGPT_V3_unfiltered_cleaned_split.json', max_concurrency=100, model='RedHatAI/Qwen2.5-7B-Instruct-FP8-dynamic', tokenizer=None, use_beam_search=False, num_prompts=100, logprobs=None, request_rate=inf, burstiness=1.0, seed=0, trust_remote_code=False, disable_tqdm=False, profile=False, save_result=True, save_detailed=False, append_result=True, metadata=None, result_dir=None, result_filename='vllm_bench.json', ignore_eos=False, percentile_metrics='ttft,tpot,itl', metric_percentiles='99', goodput=None, sonnet_input_len=550, sonnet_output_len=150, sonnet_prefix_len=200, sharegpt_output_len=None, random_input_len=1024, random_output_len=128, random_range_ratio=0.0, random_prefix_len=0, hf_subset=None, hf_split=None, hf_output_len=None, top_p=None, top_k=None, min_p=None, temperature=None, tokenizer_mode='auto', served_model_name=None, lora_modules=None)\n",
            "Starting initial single prompt test run...\n",
            "Initial test run completed. Starting main benchmark run...\n",
            "Traffic request rate: inf\n",
            "Burstiness factor: 1.0 (Poisson process)\n",
            "Maximum request concurrency: 100\n",
            "100% 100/100 [00:36<00:00,  2.77it/s]\n",
            "============ Serving Benchmark Result ============\n",
            "Successful requests:                     100       \n",
            "Benchmark duration (s):                  36.10     \n",
            "Total input tokens:                      23260     \n",
            "Total generated tokens:                  21756     \n",
            "Request throughput (req/s):              2.77      \n",
            "Output token throughput (tok/s):         602.60    \n",
            "Total Token throughput (tok/s):          1246.86   \n",
            "---------------Time to First Token----------------\n",
            "Mean TTFT (ms):                          2652.46   \n",
            "Median TTFT (ms):                        2789.23   \n",
            "P99 TTFT (ms):                           4391.16   \n",
            "-----Time per Output Token (excl. 1st token)------\n",
            "Mean TPOT (ms):                          90.16     \n",
            "Median TPOT (ms):                        55.66     \n",
            "P99 TPOT (ms):                           389.75    \n",
            "---------------Inter-token Latency----------------\n",
            "Mean ITL (ms):                           51.15     \n",
            "Median ITL (ms):                         45.16     \n",
            "P99 ITL (ms):                            384.46    \n",
            "==================================================\n",
            "INFO 05-17 21:44:08 [importing.py:53] Triton module has been replaced with a placeholder.\n",
            "INFO 05-17 21:44:08 [__init__.py:239] Automatically detected platform cuda.\n",
            "2025-05-17 21:44:09.218740: E external/local_xla/xla/stream_executor/cuda/cuda_fft.cc:477] Unable to register cuFFT factory: Attempting to register factory for plugin cuFFT when one has already been registered\n",
            "WARNING: All log messages before absl::InitializeLog() is called are written to STDERR\n",
            "E0000 00:00:1747518249.240258   21091 cuda_dnn.cc:8310] Unable to register cuDNN factory: Attempting to register factory for plugin cuDNN when one has already been registered\n",
            "E0000 00:00:1747518249.246924   21091 cuda_blas.cc:1418] Unable to register cuBLAS factory: Attempting to register factory for plugin cuBLAS when one has already been registered\n",
            "Namespace(backend='vllm', base_url=None, host='127.0.0.1', port=8000, endpoint='/v1/completions', dataset_name='sharegpt', dataset_path='/content/ShareGPT_V3_unfiltered_cleaned_split.json', max_concurrency=300, model='RedHatAI/Qwen2.5-7B-Instruct-FP8-dynamic', tokenizer=None, use_beam_search=False, num_prompts=300, logprobs=None, request_rate=inf, burstiness=1.0, seed=0, trust_remote_code=False, disable_tqdm=False, profile=False, save_result=True, save_detailed=False, append_result=True, metadata=None, result_dir=None, result_filename='vllm_bench.json', ignore_eos=False, percentile_metrics='ttft,tpot,itl', metric_percentiles='99', goodput=None, sonnet_input_len=550, sonnet_output_len=150, sonnet_prefix_len=200, sharegpt_output_len=None, random_input_len=1024, random_output_len=128, random_range_ratio=0.0, random_prefix_len=0, hf_subset=None, hf_split=None, hf_output_len=None, top_p=None, top_k=None, min_p=None, temperature=None, tokenizer_mode='auto', served_model_name=None, lora_modules=None)\n",
            "Starting initial single prompt test run...\n",
            "Initial test run completed. Starting main benchmark run...\n",
            "Traffic request rate: inf\n",
            "Burstiness factor: 1.0 (Poisson process)\n",
            "Maximum request concurrency: 300\n",
            "100% 300/300 [00:50<00:00,  5.93it/s]\n",
            "============ Serving Benchmark Result ============\n",
            "Successful requests:                     300       \n",
            "Benchmark duration (s):                  50.55     \n",
            "Total input tokens:                      63426     \n",
            "Total generated tokens:                  65048     \n",
            "Request throughput (req/s):              5.93      \n",
            "Output token throughput (tok/s):         1286.73   \n",
            "Total Token throughput (tok/s):          2541.38   \n",
            "---------------Time to First Token----------------\n",
            "Mean TTFT (ms):                          5252.93   \n",
            "Median TTFT (ms):                        5338.36   \n",
            "P99 TTFT (ms):                           9693.80   \n",
            "-----Time per Output Token (excl. 1st token)------\n",
            "Mean TPOT (ms):                          137.42    \n",
            "Median TPOT (ms):                        86.36     \n",
            "P99 TPOT (ms):                           408.17    \n",
            "---------------Inter-token Latency----------------\n",
            "Mean ITL (ms):                           79.33     \n",
            "Median ITL (ms):                         70.64     \n",
            "P99 ITL (ms):                            415.33    \n",
            "==================================================\n"
          ]
        }
      ]
    },
    {
      "cell_type": "code",
      "source": [
        "import matplotlib.pyplot as plt\n",
        "import json\n",
        "\n",
        "# Load the JSON lines from a local json saved containing benchmark results\n",
        "with open(\"vllm_bench.json\", \"r\") as f:\n",
        "    data = [json.loads(line) for line in f if line.strip()]\n",
        "\n"
      ],
      "metadata": {
        "id": "g6_6b2wJXoJE"
      },
      "execution_count": null,
      "outputs": []
    },
    {
      "cell_type": "code",
      "source": [
        "import matplotlib.pyplot as plt\n",
        "import json\n",
        "import numpy as np\n",
        "\n",
        "# Parse raw data\n",
        "#raw_data = \"\"\"<...your data here...>\"\"\"  # keep the full string as before\n",
        "#data = [json.loads(line) for line in raw_data.strip().split('\\n')]\n",
        "\n",
        "# Organize by rate (max_concurrency)\n",
        "grouped = {}\n",
        "for entry in data:\n",
        "    rate = entry[\"max_concurrency\"]\n",
        "    model = entry[\"model_id\"]\n",
        "    ttft = entry[\"median_ttft_ms\"]\n",
        "    if rate not in grouped:\n",
        "        grouped[rate] = {}\n",
        "    grouped[rate][model] = ttft\n",
        "\n",
        "# Sort the group keys (rates) for consistent display\n",
        "sorted_rates = sorted(grouped.keys())\n",
        "\n",
        "# Unique models across all groups\n",
        "all_models = sorted(set(model for group in grouped.values() for model in group))\n",
        "\n",
        "# Prepare bar positions and heights\n",
        "bar_width = 0.2\n",
        "x = np.arange(len(sorted_rates))\n",
        "offsets = np.linspace(-bar_width*(len(all_models)-1)/2, bar_width*(len(all_models)-1)/2, len(all_models))\n",
        "\n",
        "plt.figure(figsize=(10, 6))\n",
        "\n",
        "for i, model in enumerate(all_models):\n",
        "    ttft_values = [grouped[rate].get(model, 0) for rate in sorted_rates]\n",
        "    bar_positions = x + offsets[i]\n",
        "    bars = plt.bar(bar_positions, ttft_values, bar_width, label=model.split(\"/\")[-1])\n",
        "\n",
        "    # Add text labels above each bar\n",
        "    for pos, val in zip(bar_positions, ttft_values):\n",
        "        if val > 0:\n",
        "            plt.text(pos, val + 10, f\"{val:.1f}\", ha='center', va='bottom', fontsize=8)\n",
        "\n",
        "\n",
        "plt.xlabel(\"Max Concurrency\")\n",
        "plt.ylabel(\"Median TTFT (ms)\")\n",
        "plt.title(\"Median TTFT by Concurrency and Model ID\")\n",
        "plt.xticks(x, sorted_rates)\n",
        "plt.grid(True, axis='y', linestyle='--', alpha=0.6)\n",
        "plt.legend(title=\"Model\")\n",
        "plt.tight_layout()\n",
        "plt.show()\n"
      ],
      "metadata": {
        "colab": {
          "base_uri": "https://localhost:8080/",
          "height": 549
        },
        "id": "N-Ss4WKS56NS",
        "outputId": "cd38abdc-7460-4315-f80a-68015b013b6e"
      },
      "execution_count": null,
      "outputs": [
        {
          "output_type": "display_data",
          "data": {
            "text/plain": [
              "<Figure size 1000x600 with 1 Axes>"
            ],
            "image/png": "[encoded data removed]"
          },
          "metadata": {}
        }
      ]
    },
    {
      "cell_type": "code",
      "source": [
        "import matplotlib.pyplot as plt\n",
        "import json\n",
        "import numpy as np\n",
        "\n",
        "# Parse raw data\n",
        "#raw_data = \"\"\"<...your data here...>\"\"\"  # keep the full string as before\n",
        "#data = [json.loads(line) for line in raw_data.strip().split('\\n')]\n",
        "\n",
        "# Organize by rate (max_concurrency)\n",
        "grouped = {}\n",
        "for entry in data:\n",
        "    rate = entry[\"max_concurrency\"]\n",
        "    model = entry[\"model_id\"]\n",
        "    ttft = entry[\"median_tpot_ms\"]\n",
        "    if rate not in grouped:\n",
        "        grouped[rate] = {}\n",
        "    grouped[rate][model] = ttft\n",
        "\n",
        "# Sort the group keys (rates) for consistent display\n",
        "sorted_rates = sorted(grouped.keys())\n",
        "\n",
        "# Unique models across all groups\n",
        "all_models = sorted(set(model for group in grouped.values() for model in group))\n",
        "\n",
        "# Prepare bar positions and heights\n",
        "bar_width = 0.2\n",
        "x = np.arange(len(sorted_rates))\n",
        "offsets = np.linspace(-bar_width*(len(all_models)-1)/2, bar_width*(len(all_models)-1)/2, len(all_models))\n",
        "\n",
        "plt.figure(figsize=(10, 6))\n",
        "\n",
        "for i, model in enumerate(all_models):\n",
        "    ttft_values = [grouped[rate].get(model, 0) for rate in sorted_rates]\n",
        "    bar_positions = x + offsets[i]\n",
        "    bars = plt.bar(bar_positions, ttft_values, bar_width, label=model.split(\"/\")[-1])\n",
        "\n",
        "    # Add text labels above each bar\n",
        "    for pos, val in zip(bar_positions, ttft_values):\n",
        "        if val > 0:\n",
        "            plt.text(pos, val + 1, f\"{val:.1f}\", ha='center', va='bottom', fontsize=8)\n",
        "\n",
        "\n",
        "plt.xlabel(\"Max Concurrency\")\n",
        "plt.ylabel(\"Median TPOT (ms)\")\n",
        "plt.title(\"Median TPOT by Concurrency and Model ID\")\n",
        "plt.xticks(x, sorted_rates)\n",
        "plt.grid(True, axis='y', linestyle='--', alpha=0.6)\n",
        "plt.legend(title=\"Model\")\n",
        "plt.tight_layout()\n",
        "plt.show()\n"
      ],
      "metadata": {
        "colab": {
          "base_uri": "https://localhost:8080/",
          "height": 549
        },
        "id": "R_Xuwsga-f2r",
        "outputId": "2e86deec-2721-47c3-a382-73a381c27a1e"
      },
      "execution_count": null,
      "outputs": [
        {
          "output_type": "display_data",
          "data": {
            "text/plain": [
              "<Figure size 1000x600 with 1 Axes>"
            ],
            "image/png": "[encoded data removed]"
          },
          "metadata": {}
        }
      ]
    },
    {
      "cell_type": "code",
      "source": [
        "import matplotlib.pyplot as plt\n",
        "import json\n",
        "import numpy as np\n",
        "\n",
        "# Parse raw data\n",
        "#raw_data = \"\"\"<...your data here...>\"\"\"  # keep the full string as before\n",
        "#data = [json.loads(line) for line in raw_data.strip().split('\\n')]\n",
        "\n",
        "# Organize by rate (max_concurrency)\n",
        "grouped = {}\n",
        "for entry in data:\n",
        "    rate = entry[\"max_concurrency\"]\n",
        "    model = entry[\"model_id\"]\n",
        "    ttft = entry[\"request_throughput\"]\n",
        "    if rate not in grouped:\n",
        "        grouped[rate] = {}\n",
        "    grouped[rate][model] = ttft\n",
        "\n",
        "# Sort the group keys (rates) for consistent display\n",
        "sorted_rates = sorted(grouped.keys())\n",
        "\n",
        "# Unique models across all groups\n",
        "all_models = sorted(set(model for group in grouped.values() for model in group))\n",
        "\n",
        "# Prepare bar positions and heights\n",
        "bar_width = 0.2\n",
        "x = np.arange(len(sorted_rates))\n",
        "offsets = np.linspace(-bar_width*(len(all_models)-1)/2, bar_width*(len(all_models)-1)/2, len(all_models))\n",
        "\n",
        "plt.figure(figsize=(10, 6))\n",
        "\n",
        "for i, model in enumerate(all_models):\n",
        "    ttft_values = [grouped[rate].get(model, 0) for rate in sorted_rates]\n",
        "    bar_positions = x + offsets[i]\n",
        "    bars = plt.bar(bar_positions, ttft_values, bar_width, label=model.split(\"/\")[-1])\n",
        "\n",
        "    # Add text labels above each bar\n",
        "    for pos, val in zip(bar_positions, ttft_values):\n",
        "        if val > 0:\n",
        "            plt.text(pos, val + 0.1, f\"{val:.2f}\", ha='center', va='bottom', fontsize=8)\n",
        "\n",
        "\n",
        "plt.xlabel(\"Max Concurrency\")\n",
        "plt.ylabel(\"Request_Throughput\")\n",
        "plt.title(\"Request Throughput by Concurrency and Model ID\")\n",
        "plt.xticks(x, sorted_rates)\n",
        "plt.grid(True, axis='y', linestyle='--', alpha=0.6)\n",
        "plt.legend(title=\"Model\")\n",
        "plt.tight_layout()\n",
        "plt.show()\n"
      ],
      "metadata": {
        "id": "FJqHBOQe_K7A",
        "colab": {
          "base_uri": "https://localhost:8080/",
          "height": 549
        },
        "outputId": "b57489a5-9529-4487-cf27-3a5b4930b13f"
      },
      "execution_count": null,
      "outputs": [
        {
          "output_type": "display_data",
          "data": {
            "text/plain": [
              "<Figure size 1000x600 with 1 Axes>"
            ],
            "image/png": "[encoded data removed]"
          },
          "metadata": {}
        }
      ]
    },
    {
      "cell_type": "code",
      "source": [],
      "metadata": {
        "id": "2IrpPSUwN9NJ"
      },
      "execution_count": null,
      "outputs": []
    }
  ]
}