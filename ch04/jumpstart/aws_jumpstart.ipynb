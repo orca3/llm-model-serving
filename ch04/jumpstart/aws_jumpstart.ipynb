{
  "nbformat": 4,
  "nbformat_minor": 0,
  "metadata": {
    "colab": {
      "provenance": [],
      "toc_visible": true,
      "authorship_tag": "ABX9TyPlVr8VClhDQz9FiqrrCTYC",
      "include_colab_link": true
    },
    "kernelspec": {
      "name": "python3",
      "display_name": "Python 3"
    },
    "language_info": {
      "name": "python"
    }
  },
  "cells": [
    {
      "cell_type": "markdown",
      "metadata": {
        "id": "view-in-github",
        "colab_type": "text"
      },
      "source": [
        "<a href=\"https://colab.research.google.com/github/orca3/llm-model-serving/blob/main/ch04/jumpstart/aws_jumpstart.ipynb\" target=\"_parent\"><img src=\"https://colab.research.google.com/assets/colab-badge.svg\" alt=\"Open In Colab\"/></a>"
      ]
    },
    {
      "cell_type": "code",
      "source": [
        "import os"
      ],
      "metadata": {
        "id": "VKVA49mDq9Ee"
      },
      "execution_count": 5,
      "outputs": []
    },
    {
      "cell_type": "code",
      "source": [
        "# Set AWS credentials\n",
        "os.environ['AWS_ACCESS_KEY_ID'] = '...'\n",
        "os.environ['AWS_SECRET_ACCESS_KEY'] = '...'\n",
        "os.environ['AWS_SESSION_TOKEN'] = '...'\n",
        "os.environ['AWS_REGION'] = 'us-west-2' # e.g., 'us-east-1'\n",
        "os.environ['AWS_DEFAULT_REGION'] = 'us-west-2' # e.g., 'us-east-1'"
      ],
      "metadata": {
        "id": "3ZPXbZa0p1bV"
      },
      "execution_count": 12,
      "outputs": []
    },
    {
      "cell_type": "code",
      "source": [
        "!pip install --quiet sagemaker\n",
        "import sagemaker"
      ],
      "metadata": {
        "id": "SC49-ZvZp2zL"
      },
      "execution_count": 13,
      "outputs": []
    },
    {
      "cell_type": "code",
      "source": [
        "# Create SageMaker session\n",
        "# This session will use the AWS credentials defined in the environment variables\n",
        "sess = sagemaker.Session()\n",
        "\n",
        "# Specify the ARN of the SageMaker execution role used for creating model endpoint\n",
        "# This role needs to have the permission to access jumpstart model and perform model endpoint creation\n",
        "sagemaker_execution_role = 'arn:aws:iam::....'\n"
      ],
      "metadata": {
        "id": "M2X1AH49p2tF"
      },
      "execution_count": 14,
      "outputs": []
    },
    {
      "cell_type": "code",
      "execution_count": null,
      "metadata": {
        "id": "JrUlPDmoN1ty"
      },
      "outputs": [],
      "source": [
        "import sagemaker\n",
        "from sagemaker.jumpstart.model import JumpStartModel\n",
        "\n",
        "# Define the model ID and version\n",
        "model_id = \"huggingface-llm-mistral-7b-instruct\"\n",
        "version = \"*\"  # Use the latest version\n",
        "\n",
        "# Create a JumpStartModel instance with hardware configurations\n",
        "model = JumpStartModel(\n",
        "    model_id=model_id,\n",
        "    model_version=version,\n",
        "    instance_type=\"ml.g5.2xlarge\",  # Specify the instance type\n",
        "    role=sagemaker_execution_role, # Explicitly specify the execution role\n",
        "    env={\n",
        "        \"SAGEMAKER_MODEL_SERVER_WORKERS\": \"1\",  # Example environment variable\n",
        "        \"SAGEMAKER_CONTAINER_LOG_LEVEL\": \"20\"\n",
        "    },\n",
        "    # Add other configurations as needed, checkout https://sagemaker.readthedocs.io/en/stable/api/inference/model.html#sagemaker.jumpstart.model.JumpStartModel\n",
        ")\n"
      ]
    },
    {
      "cell_type": "code",
      "source": [
        "# Deploy the jumpstart model\n",
        "predictor = model.deploy(\n",
        "    initial_instance_count=1,\n",
        "    endpoint_name=\"my-custom-mistral-endpoint\",\n",
        "    role=sagemaker_execution_role, # Explicitly specify the execution role during deploy\n",
        "    sagemaker_session=sess\n",
        ")"
      ],
      "metadata": {
        "id": "reygrxq3qL_y"
      },
      "execution_count": null,
      "outputs": []
    }
  ]
}