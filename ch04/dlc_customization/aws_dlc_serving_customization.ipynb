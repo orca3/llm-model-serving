{
  "nbformat": 4,
  "nbformat_minor": 0,
  "metadata": {
    "colab": {
      "provenance": [],
      "authorship_tag": "ABX9TyNe3DLbc2NiES8YbYI6iDzh",
      "include_colab_link": true
    },
    "kernelspec": {
      "name": "python3",
      "display_name": "Python 3"
    },
    "language_info": {
      "name": "python"
    }
  },
  "cells": [
    {
      "cell_type": "markdown",
      "metadata": {
        "id": "view-in-github",
        "colab_type": "text"
      },
      "source": [
        "<a href=\"https://colab.research.google.com/github/orca3/llm-model-serving/blob/main/ch04/dlc_customization/aws_dlc_serving_customization.ipynb\" target=\"_parent\"><img src=\"https://colab.research.google.com/assets/colab-badge.svg\" alt=\"Open In Colab\"/></a>"
      ]
    },
    {
      "cell_type": "markdown",
      "source": [
        "Sudo code to demonstration how to customize model serving experience with SageMaker deep learning container."
      ],
      "metadata": {
        "id": "7NYcUIu0A0fo"
      }
    },
    {
      "cell_type": "markdown",
      "source": [
        "# Step 1: customize model serving code"
      ],
      "metadata": {
        "id": "K3AiRf19BChY"
      }
    },
    {
      "cell_type": "code",
      "execution_count": null,
      "metadata": {
        "id": "-L_Kj2_aAv9g"
      },
      "outputs": [],
      "source": [
        "!rm -rf my-own-llm\n",
        "!mkdir -p  my-own-llm\n",
        "\n",
        "# create model configuration\n",
        "%%writefile my-own-llm/serving.properties\n",
        "engine=Python\n",
        "option.s3url=s3://sagemaker-us-west-2-<your account>/large-model-lmi/code/my-own-llm"
      ]
    },
    {
      "cell_type": "code",
      "source": [
        "# claim model dependency\n",
        "%%writefile my-own-llm/requirements.txt\n",
        "transformers==4.36.1\n",
        "torch\n",
        "diffusers==0.18.0\n",
        "optimum[onnxruntime-gpu]\n",
        "cupy-cuda11x"
      ],
      "metadata": {
        "id": "zAP5U8ZABgw5"
      },
      "execution_count": null,
      "outputs": []
    },
    {
      "cell_type": "code",
      "source": [
        "# implement your own model inference logic in model.py file.\n",
        "\n",
        "%%writefile my-own-llm/model.py\n",
        "import os\n",
        "import logging\n",
        "from djl_python import Input, Output\n",
        "# ...\n",
        "\n",
        "PAD_TOKEN_ID = 50256\n",
        "\n",
        "# initialize model\n",
        "def initialize(properties):\n",
        "\n",
        "    model = AutoModel.from_pretrained(model_id)\n",
        "    device = torch.device(\"cuda\" if torch.cuda.is_available() else \"cpu\")\n",
        "    model.to(device)\n",
        "    model.eval()\n",
        "\n",
        "model = None\n",
        "tokenizer = None\n",
        "\n",
        "# execute model\n",
        "def run_inference(input_texts, onnx_model, tokenizer):\n",
        "\n",
        "    max_batch_size = 128\n",
        "    z = torch.empty([0,768]).to(\"cuda\")\n",
        "    for i in range(0, len(input_texts), max_batch_size):\n",
        "        logging.info(f\"Start Iteration: {i}\")\n",
        "\n",
        "        start_time = time.time()\n",
        "        batch_dict = tokenizer(input_texts[i:i+max_batch_size], max_length=512, padding=True, truncation=True, return_tensors='pt').to(\"cuda\")\n",
        "        logging.info(f\"After Tokenize Latency: {time.time() - start_time}\")\n",
        "\n",
        "        start_time = time.time()\n",
        "        with torch.no_grad():\n",
        "            outputs = model(**batch_dict)\n",
        "        logging.info(f\"After Model Inference Latency: {time.time() - start_time}\")\n",
        "\n",
        "        # ... ..\n",
        "\n",
        "        z = torch.cat((embeddings,z), 0)\n",
        "        del outputs\n",
        "        del embeddings\n",
        "        del batch_dict\n",
        "\n",
        "    results = [{\"embedding\": embedding.tolist(), \"index\": idx} for idx, embedding in enumerate(z)]\n",
        "    # logging.info(f'Output embeddings: {results}')\n",
        "    del z\n",
        "    # return dictonary, which will be json serializable\n",
        "    return {\"embeddings\": results}\n",
        "\n",
        "def average_pool(last_hidden_states: Tensor,\n",
        "                 attention_mask: Tensor) -> Tensor:\n",
        "    last_hidden = last_hidden_states.masked_fill(~attention_mask[..., None].bool(), 0.0)\n",
        "    return last_hidden.sum(dim=1) / attention_mask.sum(dim=1)[..., None]\n",
        "\n",
        "# model execution entry point\n",
        "def handle(inputs: Input) -> None:\n",
        "    logging.info(\"handle : Handle start...\")\n",
        "    global model, tokenizer\n",
        "    if not model:\n",
        "        logging.info(\"handle : initializing model\")\n",
        "        model,tokenizer = initialize(inputs.get_properties())\n",
        "\n",
        "    if inputs.is_empty():\n",
        "        logging.info(\"handle : inputs is empty\")\n",
        "        # Model server makes an empty call to warmup the model on startup\n",
        "        return None\n",
        "\n",
        "    logging.info(\"handle : Pre-processing start\")\n",
        "    data = inputs.get_as_json()\n",
        "    logging.info(f\"handle : Pre-processing json data {data}\")\n",
        "    input_sentences = data[\"inputs\"]\n",
        "    logging.info(f\"handle : Pre-processing sentences {input_sentences}\")\n",
        "    res = run_inference(input_sentences, model, tokenizer)\n",
        "\n",
        "    logging.info(\"handle : Handle End\")\n",
        "    return Output().add_as_json(res)"
      ],
      "metadata": {
        "id": "f9zlJ6HdBwwW"
      },
      "execution_count": null,
      "outputs": []
    },
    {
      "cell_type": "code",
      "source": [
        "# package model file\n",
        "%%sh\n",
        "tar czvf my-own-llm.tar.gz my-own-llm/"
      ],
      "metadata": {
        "id": "W6MvQ_UgC5cb"
      },
      "execution_count": null,
      "outputs": []
    },
    {
      "cell_type": "code",
      "source": [
        "# upload model file to S3\n",
        "\n",
        "s3_code_prefix = \"large-model-lmi/code/my-own-llm\" # increment the version\n",
        "bucket = sess.default_bucket()  # bucket to house artifacts\n",
        "code_artifact = sess.upload_data(\"my-own-llm.tar.gz\", bucket, s3_code_prefix)\n"
      ],
      "metadata": {
        "id": "IG-5v_BFDngE"
      },
      "execution_count": null,
      "outputs": []
    },
    {
      "cell_type": "markdown",
      "source": [
        "# Step 2: Deploy model with AWS DJL container"
      ],
      "metadata": {
        "id": "Rg3MwQnjDb0y"
      }
    },
    {
      "cell_type": "code",
      "source": [
        "# find the DJL model serving container\n",
        "image_uri = image_uris.retrieve(\n",
        "    framework=\"djl-deepspeed\", region=sess.boto_session.region_name, version=\"0.25.0\"\n",
        ")\n"
      ],
      "metadata": {
        "id": "b784D1AnDbSi"
      },
      "execution_count": null,
      "outputs": []
    },
    {
      "cell_type": "code",
      "source": [
        "# create model object\n",
        "model = Model(image_uri=image_uri, model_data=code_artifact, role=role)\n"
      ],
      "metadata": {
        "id": "-gqlH7IzD7Mi"
      },
      "execution_count": null,
      "outputs": []
    },
    {
      "cell_type": "code",
      "source": [
        "# deployment model\n",
        "predictor = model.deploy(initial_instance_count=1,\n",
        "             instance_type=\"ml.g5.2xlarge\",\n",
        "             endpoint_name=\"my-own-llm-128\")"
      ],
      "metadata": {
        "id": "JJtC37wJD_Xs"
      },
      "execution_count": null,
      "outputs": []
    }
  ]
}