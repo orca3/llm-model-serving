{
  "nbformat": 4,
  "nbformat_minor": 0,
  "metadata": {
    "colab": {
      "provenance": [],
      "authorship_tag": "ABX9TyM59bhvRbLXxCPnSGYGWGjV",
      "include_colab_link": true
    },
    "kernelspec": {
      "name": "python3",
      "display_name": "Python 3"
    },
    "language_info": {
      "name": "python"
    }
  },
  "cells": [
    {
      "cell_type": "markdown",
      "metadata": {
        "id": "view-in-github",
        "colab_type": "text"
      },
      "source": [
        "<a href=\"https://colab.research.google.com/github/orca3/llm-model-serving/blob/main/ch04/bedrock/aws_bedrock_examples.ipynb\" target=\"_parent\"><img src=\"https://colab.research.google.com/assets/colab-badge.svg\" alt=\"Open In Colab\"/></a>"
      ]
    },
    {
      "cell_type": "code",
      "metadata": {
        "id": "2ef1683b"
      },
      "source": [
        "!pip install --quiet boto3"
      ],
      "execution_count": null,
      "outputs": []
    },
    {
      "cell_type": "code",
      "source": [
        "import boto3\n",
        "import os\n",
        "\n",
        "# Set the API key as an environment variable\n",
        "os.environ['AWS_BEARER_TOKEN_BEDROCK'] = \".. .. ..\"\n",
        "\n",
        "# Create the Bedrock client\n",
        "client = boto3.client(\n",
        "    service_name=\"bedrock-runtime\",\n",
        "    region_name=\"us-west-2\"\n",
        ")\n"
      ],
      "metadata": {
        "id": "ZLvFyZBKtluN"
      },
      "execution_count": null,
      "outputs": []
    },
    {
      "cell_type": "code",
      "source": [
        "# Define the model and message\n",
        "model_id = \"us.anthropic.claude-3-5-sonnet-20240620-v1:0\"\n",
        "messages = [{\"role\": \"user\", \"content\": [{\"text\": \"Hello! Can you tell me about Amazon Bedrock?\"}]}]\n",
        "\n",
        "# Make the API call\n",
        "response = client.converse(\n",
        "    modelId=model_id,\n",
        "    messages=messages,\n",
        ")\n",
        "\n",
        "# Print the response\n",
        "print(response['output']['message']['content'][0]['text'])"
      ],
      "metadata": {
        "colab": {
          "base_uri": "https://localhost:8080/"
        },
        "id": "HjV8Wos0uV2L",
        "outputId": "1d4db3de-9b10-4c8c-a0cf-3e1c373b098e"
      },
      "execution_count": 9,
      "outputs": [
        {
          "output_type": "stream",
          "name": "stdout",
          "text": [
            "Certainly! Amazon Bedrock is a fully managed service offered by Amazon Web Services (AWS) that provides access to foundation models (FMs) from leading AI companies through a single API. Here are some key points about Amazon Bedrock:\n",
            "\n",
            "1. Purpose: It allows developers to easily build and scale generative AI applications without having to manage the underlying infrastructure.\n",
            "\n",
            "2. Foundation Models: Bedrock offers access to a variety of pre-trained models from AI companies like AI21 Labs, Anthropic, Stability AI, and Amazon's own models.\n",
            "\n",
            "3. Customization: Users can fine-tune these models on their own data to create custom AI solutions tailored to specific use cases.\n",
            "\n",
            "4. Security and Privacy: It provides enterprise-grade security, privacy, and responsible AI capabilities.\n",
            "\n",
            "5. Integration: Bedrock integrates with other AWS services, making it easier to incorporate AI capabilities into existing applications and workflows.\n",
            "\n",
            "6. Use Cases: It can be used for various applications such as content generation, summarization, chat interfaces, code generation, and more.\n",
            "\n",
            "7. Pay-as-you-go: Users only pay for the compute and storage resources they use.\n",
            "\n",
            "8. No ML Expertise Required: It's designed to be accessible to developers without deep machine learning expertise.\n",
            "\n",
            "9. Model Evaluation: Bedrock includes tools to help evaluate and compare different models for specific tasks.\n",
            "\n",
            "10. Responsible AI: It includes features to help ensure the ethical use of AI, including content filtering and bias detection.\n",
            "\n",
            "Amazon Bedrock aims to simplify the process of building generative AI applications by providing a unified interface to access and customize powerful AI models, making advanced AI capabilities more accessible to a wider range of developers and businesses.\n"
          ]
        }
      ]
    },
    {
      "cell_type": "code",
      "source": [],
      "metadata": {
        "id": "pwjSlPMDu1w9"
      },
      "execution_count": null,
      "outputs": []
    }
  ]
}