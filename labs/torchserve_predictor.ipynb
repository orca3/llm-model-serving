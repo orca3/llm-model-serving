{
 "cells": [
  {
   "cell_type": "markdown",
   "metadata": {},
   "source": [
    "(1) Start to use this: https://pytorch.org/tutorials/intermediate/flask_rest_api_tutorial.html\n",
    "(2) Then move to huggingFace example: https://huggingface.co/distilbert/distilbert-base-uncased-finetuned-sst-2-english"
   ]
  }
 ],
 "metadata": {
  "language_info": {
   "name": "python"
  }
 },
 "nbformat": 4,
 "nbformat_minor": 2
}
