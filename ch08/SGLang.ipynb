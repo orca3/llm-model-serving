{
  "nbformat": 4,
  "nbformat_minor": 0,
  "metadata": {
    "colab": {
      "provenance": [],
      "machine_shape": "hm",
      "gpuType": "A100",
      "authorship_tag": "ABX9TyOFnN128KFQZZgKCLU7bhfi",
      "include_colab_link": true
    },
    "kernelspec": {
      "name": "python3",
      "display_name": "Python 3"
    },
    "language_info": {
      "name": "python"
    },
    "accelerator": "GPU"
  },
  "cells": [
    {
      "cell_type": "markdown",
      "metadata": {
        "id": "view-in-github",
        "colab_type": "text"
      },
      "source": [
        "<a href=\"https://colab.research.google.com/github/orca3/llm-model-serving/blob/main/ch08/SGLang.ipynb\" target=\"_parent\"><img src=\"https://colab.research.google.com/assets/colab-badge.svg\" alt=\"Open In Colab\"/></a>"
      ]
    },
    {
      "cell_type": "markdown",
      "source": [
        "Code Example is from [SGLang Get Started Tutorial](https://docs.sglang.ai/basic_usage/offline_engine_api.html)"
      ],
      "metadata": {
        "id": "SJhG5qz8c_I-"
      }
    },
    {
      "cell_type": "code",
      "execution_count": null,
      "metadata": {
        "id": "vnvvgwfpZKz9"
      },
      "outputs": [],
      "source": [
        "!pip install --upgrade pip\n",
        "!pip install uv\n",
        "!uv pip install \"sglang[all]>=0.5.3rc0\""
      ]
    },
    {
      "cell_type": "code",
      "source": [
        "# launch the offline engine\n",
        "import asyncio\n",
        "\n",
        "import sglang as sgl\n",
        "import sglang.test.doc_patch\n",
        "from sglang.utils import async_stream_and_merge, stream_and_merge\n",
        "\n",
        "llm = sgl.Engine(model_path=\"Qwen/Qwen3-8B-AWQ\")"
      ],
      "metadata": {
        "id": "zD-1hDMsZYjA"
      },
      "execution_count": null,
      "outputs": []
    },
    {
      "cell_type": "code",
      "source": [
        "prompts = [\n",
        "    \"Hello, my name is\",\n",
        "    \"The president of the United States is\",\n",
        "    \"The capital of France is\",\n",
        "    \"The future of AI is\",\n",
        "]\n",
        "\n",
        "sampling_params = {\"temperature\": 0.8, \"top_p\": 0.95}\n",
        "\n",
        "outputs = llm.generate(prompts, sampling_params)\n",
        "for prompt, output in zip(prompts, outputs):\n",
        "    print(\"===============================\")\n",
        "    print(f\"Prompt: {prompt}\\nGenerated text: {output['text']}\")"
      ],
      "metadata": {
        "id": "RLB2ShhGaB4o"
      },
      "execution_count": null,
      "outputs": []
    },
    {
      "cell_type": "code",
      "source": [
        "prompts = [\n",
        "    \"Write a short, neutral self-introduction for a fictional character. Hello, my name is\",\n",
        "    \"Provide a concise factual statement about France’s capital city. The capital of France is\",\n",
        "    \"Explain possible future trends in artificial intelligence. The future of AI is\",\n",
        "]\n",
        "\n",
        "sampling_params = {\n",
        "    \"temperature\": 0.2,\n",
        "    \"top_p\": 0.9,\n",
        "}\n",
        "\n",
        "print(\"\\n=== Testing synchronous streaming generation with overlap removal ===\\n\")\n",
        "\n",
        "for prompt in prompts:\n",
        "    print(f\"Prompt: {prompt}\")\n",
        "    merged_output = stream_and_merge(llm, prompt, sampling_params)\n",
        "    print(\"Generated text:\", merged_output)\n",
        "    print()"
      ],
      "metadata": {
        "id": "GlL9F7TxcxlX"
      },
      "execution_count": null,
      "outputs": []
    },
    {
      "cell_type": "code",
      "source": [],
      "metadata": {
        "id": "VVKkiOsTc18B"
      },
      "execution_count": null,
      "outputs": []
    }
  ]
}